{
 "cells": [
  {
   "cell_type": "markdown",
   "id": "89ef194d",
   "metadata": {
    "id": "WGrG12VifQlw"
   },
   "source": [
    "## 신용 카드 이상 탐지 - 전통적 ML 비지도학습\n",
    "\n",
    "- dataset는 2013 년 9 월 유럽 카드 소지자 신용 카드 거래로 만들었습니다. 이 dataset는 2 일 동안 발생한 거래를 보여 주며, 284,807 건의 거래 중 492 건의 fraud가 있습니다. 데이터세트는 매우 불균형하며 포지티브 클래스(사기)는 모든 거래의 0.172 %를 차지합니다.\n",
    "\n",
    "\n",
    "- 이 dataset는 PCA 변환의 결과인 숫자 입력 변수만 포함합니다. 안타깝게도 기밀 유지 문제로 인해 데이터에 대한 원래 feature와 추가 background 정보를 제공할 수 없습니다. 특성 V1, V2, ... V28은 PCA로 얻은 principal component이며 PCA로 변환되지 않은 유일한 기능은 'Time' 과 'Amount' 입니다. '시간' 특성은 각 트랜잭션과 데이터 세트의 첫 번째 트랜잭션 사이에 경과된 시간(초) 입니다. 'Amount' 특성은 거래금액 입니다.  'Class'는 사기의 경우 1, 그렇지 않으면 0 입니다.\n",
    "\n",
    "\n",
    "- 클래스 불균형 비율이 주어지면 Area Under the Precision-Recall Curve (AUPRC)을 사용하여 정확도를 측정하는 것이 좋습니다. 불균형 data 분류에는 confusion matrix 정확도가 의미가 없습니다. "
   ]
  },
  {
   "cell_type": "code",
   "execution_count": null,
   "id": "30806884",
   "metadata": {},
   "outputs": [],
   "source": []
  },
  {
   "cell_type": "code",
   "execution_count": null,
   "id": "8dd5d63f",
   "metadata": {},
   "outputs": [],
   "source": []
  },
  {
   "cell_type": "markdown",
   "id": "337f44bd",
   "metadata": {
    "id": "T67HaPN1fQl0"
   },
   "source": [
    "### Data 분리 - 정상 / 사기거래"
   ]
  },
  {
   "cell_type": "code",
   "execution_count": null,
   "id": "638c09d7",
   "metadata": {},
   "outputs": [],
   "source": []
  },
  {
   "cell_type": "code",
   "execution_count": null,
   "id": "857a44e5",
   "metadata": {},
   "outputs": [],
   "source": []
  },
  {
   "cell_type": "code",
   "execution_count": null,
   "id": "ed24afae",
   "metadata": {},
   "outputs": [],
   "source": []
  },
  {
   "cell_type": "code",
   "execution_count": null,
   "id": "5232d6a4",
   "metadata": {},
   "outputs": [],
   "source": []
  },
  {
   "cell_type": "code",
   "execution_count": null,
   "id": "1721dea5",
   "metadata": {},
   "outputs": [],
   "source": []
  },
  {
   "cell_type": "markdown",
   "id": "b0abfafa",
   "metadata": {
    "id": "N59GJXjTfQl3"
   },
   "source": [
    "## EDA (Exploratory Data Analysis)\n",
    "- 탐색적 Data 분석\n",
    "\n",
    "### fraud / normal 거래의 금액 분포"
   ]
  },
  {
   "cell_type": "code",
   "execution_count": null,
   "id": "12d48d3a",
   "metadata": {},
   "outputs": [],
   "source": []
  },
  {
   "cell_type": "code",
   "execution_count": null,
   "id": "2468f77d",
   "metadata": {},
   "outputs": [],
   "source": []
  },
  {
   "cell_type": "code",
   "execution_count": null,
   "id": "f5a91b67",
   "metadata": {},
   "outputs": [],
   "source": []
  },
  {
   "cell_type": "markdown",
   "id": "e88cfcf3",
   "metadata": {},
   "source": [
    "- 금액을 log 분포로 변경"
   ]
  },
  {
   "cell_type": "code",
   "execution_count": null,
   "id": "f2d3e057",
   "metadata": {},
   "outputs": [],
   "source": []
  },
  {
   "cell_type": "markdown",
   "id": "0b386759",
   "metadata": {},
   "source": [
    "- Log scale로 변경한 금액 분포를 시각화"
   ]
  },
  {
   "cell_type": "code",
   "execution_count": null,
   "id": "547b50ee",
   "metadata": {},
   "outputs": [],
   "source": []
  },
  {
   "cell_type": "markdown",
   "id": "850f6658",
   "metadata": {},
   "source": [
    "### Train / Test set 분리\n",
    "\n",
    "- feature / label 분리"
   ]
  },
  {
   "cell_type": "code",
   "execution_count": null,
   "id": "7ced745a",
   "metadata": {},
   "outputs": [],
   "source": []
  },
  {
   "cell_type": "code",
   "execution_count": null,
   "id": "7ccad232",
   "metadata": {},
   "outputs": [],
   "source": []
  },
  {
   "cell_type": "code",
   "execution_count": null,
   "id": "824eb71b",
   "metadata": {},
   "outputs": [],
   "source": [
    "# fraud data 비율"
   ]
  },
  {
   "cell_type": "markdown",
   "id": "f42cc94a",
   "metadata": {},
   "source": [
    "## Model을 이용한 예측"
   ]
  },
  {
   "cell_type": "markdown",
   "id": "d53e254c",
   "metadata": {},
   "source": [
    "### Isolation Forest (격리 포리스트) Algorithm \n",
    "- 약 20초 소요"
   ]
  },
  {
   "cell_type": "code",
   "execution_count": null,
   "id": "0e70e237",
   "metadata": {},
   "outputs": [],
   "source": []
  },
  {
   "cell_type": "code",
   "execution_count": null,
   "id": "7847f53a",
   "metadata": {},
   "outputs": [],
   "source": []
  },
  {
   "cell_type": "markdown",
   "id": "40735379",
   "metadata": {},
   "source": [
    "- sklearn의 metrics 사용을 위해 1 -> 0, -1 -> 1 로 변경"
   ]
  },
  {
   "cell_type": "code",
   "execution_count": null,
   "id": "e38b7e23",
   "metadata": {},
   "outputs": [],
   "source": []
  },
  {
   "cell_type": "markdown",
   "id": "fc51c9e6",
   "metadata": {},
   "source": [
    "### Local Outlier Factor(LOF) Algorithm\n",
    "\n",
    "novelty : 기본값 = False (training data 에서만 outlier detect), unseen data 를 사용하여 predict() 를 하려면 True로 설정."
   ]
  },
  {
   "cell_type": "markdown",
   "id": "4dc95511",
   "metadata": {},
   "source": [
    "- Core(TM) i9-11900 @ 2.50GHz  8 Core 에서 약 15분 소요"
   ]
  },
  {
   "cell_type": "code",
   "execution_count": null,
   "id": "a1c5872e",
   "metadata": {},
   "outputs": [],
   "source": []
  },
  {
   "cell_type": "markdown",
   "id": "50687493",
   "metadata": {},
   "source": [
    "- 약 2 분 소요"
   ]
  },
  {
   "cell_type": "code",
   "execution_count": null,
   "id": "2c9552cc",
   "metadata": {},
   "outputs": [],
   "source": []
  },
  {
   "cell_type": "code",
   "execution_count": null,
   "id": "d967b310",
   "metadata": {},
   "outputs": [],
   "source": []
  },
  {
   "cell_type": "markdown",
   "id": "3b4a90d7",
   "metadata": {},
   "source": [
    "- sklearn의 metrics 사용을 위해 1 -> 0, -1 -> 1 로 변경"
   ]
  },
  {
   "cell_type": "code",
   "execution_count": null,
   "id": "f685f319",
   "metadata": {},
   "outputs": [],
   "source": []
  },
  {
   "cell_type": "markdown",
   "id": "7eb91c13",
   "metadata": {},
   "source": [
    "## Model 비교\n",
    "- LOF model과 ISOF model 성능 비교"
   ]
  },
  {
   "cell_type": "code",
   "execution_count": null,
   "id": "68e5694d",
   "metadata": {},
   "outputs": [],
   "source": []
  },
  {
   "cell_type": "code",
   "execution_count": null,
   "id": "94cec94e",
   "metadata": {},
   "outputs": [],
   "source": [
    "    # Run Classification Metrics"
   ]
  },
  {
   "cell_type": "code",
   "execution_count": null,
   "id": "b12d2681",
   "metadata": {},
   "outputs": [],
   "source": []
  }
 ],
 "metadata": {
  "accelerator": "GPU",
  "colab": {
   "machine_shape": "hm",
   "name": "010_EDA_traditioanl_ML_Anomaly Detection.ipynb",
   "provenance": []
  },
  "kernelspec": {
   "display_name": "Python 3 (ipykernel)",
   "language": "python",
   "name": "python3"
  },
  "language_info": {
   "codemirror_mode": {
    "name": "ipython",
    "version": 3
   },
   "file_extension": ".py",
   "mimetype": "text/x-python",
   "name": "python",
   "nbconvert_exporter": "python",
   "pygments_lexer": "ipython3",
   "version": "3.9.16"
  }
 },
 "nbformat": 4,
 "nbformat_minor": 5
}
