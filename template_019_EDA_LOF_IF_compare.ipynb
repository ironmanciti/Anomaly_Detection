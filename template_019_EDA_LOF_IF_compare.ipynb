{
 "cells": [
  {
   "cell_type": "markdown",
   "id": "f3e18ca6",
   "metadata": {
    "id": "WGrG12VifQlw"
   },
   "source": [
    "## 신용 카드 이상 탐지 - 전통적 ML 비지도학습\n",
    "\n",
    "- dataset는 2013 년 9 월 유럽 카드 소지자 신용 카드 거래로 만들었습니다. 이 dataset는 2 일 동안 발생한 거래를 보여 주며, 284,807 건의 거래 중 492 건의 fraud가 있습니다. 데이터세트는 매우 불균형하며 포지티브 클래스(사기)는 모든 거래의 0.172 %를 차지합니다.\n",
    "\n",
    "\n",
    "- 이 dataset는 PCA 변환의 결과인 숫자 입력 변수만 포함합니다. 안타깝게도 기밀 유지 문제로 인해 데이터에 대한 원래 feature와 추가 background 정보를 제공할 수 없습니다. 특성 V1, V2, ... V28은 PCA로 얻은 principal component이며 PCA로 변환되지 않은 유일한 기능은 'Time' 과 'Amount' 입니다. '시간' 특성은 각 트랜잭션과 데이터 세트의 첫 번째 트랜잭션 사이에 경과된 시간(초) 입니다. 'Amount' 특성은 거래금액 입니다.  'Class'는 사기의 경우 1, 그렇지 않으면 0 입니다.\n",
    "\n",
    "\n",
    "- 클래스 불균형 비율이 주어지면 Area Under the Precision-Recall Curve (AUPRC)을 사용하여 정확도를 측정하는 것이 좋습니다. 불균형 data 분류에는 confusion matrix 정확도가 의미가 없습니다. "
   ]
  },
  {
   "cell_type": "code",
   "execution_count": null,
   "id": "9fbbbf49",
   "metadata": {},
   "outputs": [],
   "source": []
  },
  {
   "cell_type": "code",
   "execution_count": null,
   "id": "b85c142d",
   "metadata": {},
   "outputs": [],
   "source": []
  },
  {
   "cell_type": "markdown",
   "id": "55b31dae",
   "metadata": {
    "id": "T67HaPN1fQl0"
   },
   "source": [
    "### Data 분리 - 정상 / 사기거래"
   ]
  },
  {
   "cell_type": "code",
   "execution_count": null,
   "id": "e2a124e7",
   "metadata": {},
   "outputs": [],
   "source": []
  },
  {
   "cell_type": "code",
   "execution_count": null,
   "id": "7873123c",
   "metadata": {},
   "outputs": [],
   "source": []
  },
  {
   "cell_type": "code",
   "execution_count": null,
   "id": "7ecb5047",
   "metadata": {},
   "outputs": [],
   "source": []
  },
  {
   "cell_type": "code",
   "execution_count": null,
   "id": "d9d00142",
   "metadata": {},
   "outputs": [],
   "source": []
  },
  {
   "cell_type": "code",
   "execution_count": null,
   "id": "0b5b8251",
   "metadata": {},
   "outputs": [],
   "source": []
  },
  {
   "cell_type": "markdown",
   "id": "e14c5e02",
   "metadata": {
    "id": "N59GJXjTfQl3"
   },
   "source": [
    "## EDA (Exploratory Data Analysis)\n",
    "- 탐색적 Data 분석\n",
    "\n",
    "### fraud / normal 거래의 금액 분포"
   ]
  },
  {
   "cell_type": "code",
   "execution_count": null,
   "id": "9b5143c5",
   "metadata": {},
   "outputs": [],
   "source": []
  },
  {
   "cell_type": "code",
   "execution_count": null,
   "id": "645245fb",
   "metadata": {},
   "outputs": [],
   "source": []
  },
  {
   "cell_type": "code",
   "execution_count": null,
   "id": "440bae5b",
   "metadata": {},
   "outputs": [],
   "source": []
  },
  {
   "cell_type": "markdown",
   "id": "39cdbb42",
   "metadata": {},
   "source": [
    "- 금액을 log 분포로 변경"
   ]
  },
  {
   "cell_type": "code",
   "execution_count": null,
   "id": "1bd3d021",
   "metadata": {},
   "outputs": [],
   "source": []
  },
  {
   "cell_type": "markdown",
   "id": "04330491",
   "metadata": {},
   "source": [
    "- Log scale로 변경한 금액 분포를 시각화"
   ]
  },
  {
   "cell_type": "code",
   "execution_count": null,
   "id": "acb6930c",
   "metadata": {},
   "outputs": [],
   "source": []
  },
  {
   "cell_type": "markdown",
   "id": "5bd230a4",
   "metadata": {},
   "source": [
    "### Train / Test set 분리\n",
    "\n",
    "- feature / label 분리"
   ]
  },
  {
   "cell_type": "code",
   "execution_count": null,
   "id": "70c43b2e",
   "metadata": {},
   "outputs": [],
   "source": []
  },
  {
   "cell_type": "code",
   "execution_count": null,
   "id": "6c1034a6",
   "metadata": {},
   "outputs": [],
   "source": []
  },
  {
   "cell_type": "code",
   "execution_count": null,
   "id": "fa2d0d94",
   "metadata": {},
   "outputs": [],
   "source": [
    "# fraud data 비율"
   ]
  },
  {
   "cell_type": "markdown",
   "id": "2a7a8341",
   "metadata": {},
   "source": [
    "## Model을 이용한 예측"
   ]
  },
  {
   "cell_type": "markdown",
   "id": "781a2ce5",
   "metadata": {},
   "source": [
    "### Isolation Forest (격리 포리스트) Algorithm \n",
    "- 약 20초 소요"
   ]
  },
  {
   "cell_type": "code",
   "execution_count": null,
   "id": "2d3edc4a",
   "metadata": {},
   "outputs": [],
   "source": []
  },
  {
   "cell_type": "code",
   "execution_count": null,
   "id": "e1afbf4b",
   "metadata": {},
   "outputs": [],
   "source": []
  },
  {
   "cell_type": "markdown",
   "id": "55c35539",
   "metadata": {},
   "source": [
    "- sklearn의 metrics 사용을 위해 1 -> 0, -1 -> 1 로 변경"
   ]
  },
  {
   "cell_type": "code",
   "execution_count": null,
   "id": "9f026a96",
   "metadata": {},
   "outputs": [],
   "source": []
  },
  {
   "cell_type": "markdown",
   "id": "caaa7329",
   "metadata": {},
   "source": [
    "### Local Outlier Factor(LOF) Algorithm\n",
    "\n",
    "novelty : 기본값 = False (training data 에서만 outlier detect), unseen data 를 사용하여 predict() 를 하려면 True로 설정."
   ]
  },
  {
   "cell_type": "markdown",
   "id": "2f102042",
   "metadata": {},
   "source": [
    "- Core(TM) i9-11900 @ 2.50GHz  8 Core 에서 약 15분 소요"
   ]
  },
  {
   "cell_type": "code",
   "execution_count": null,
   "id": "7895f788",
   "metadata": {},
   "outputs": [],
   "source": []
  },
  {
   "cell_type": "markdown",
   "id": "fcc658fc",
   "metadata": {},
   "source": [
    "- 약 2 분 소요"
   ]
  },
  {
   "cell_type": "code",
   "execution_count": null,
   "id": "fef08de4",
   "metadata": {},
   "outputs": [],
   "source": []
  },
  {
   "cell_type": "code",
   "execution_count": null,
   "id": "63a08596",
   "metadata": {},
   "outputs": [],
   "source": []
  },
  {
   "cell_type": "markdown",
   "id": "90a4b8a9",
   "metadata": {},
   "source": [
    "- sklearn의 metrics 사용을 위해 1 -> 0, -1 -> 1 로 변경"
   ]
  },
  {
   "cell_type": "code",
   "execution_count": null,
   "id": "51cc0be8",
   "metadata": {},
   "outputs": [],
   "source": []
  },
  {
   "cell_type": "markdown",
   "id": "0c19173b",
   "metadata": {},
   "source": [
    "## Model 비교\n",
    "- LOF model과 ISOF model 성능 비교"
   ]
  },
  {
   "cell_type": "code",
   "execution_count": null,
   "id": "68b3d045",
   "metadata": {},
   "outputs": [],
   "source": []
  },
  {
   "cell_type": "code",
   "execution_count": null,
   "id": "175bb796",
   "metadata": {},
   "outputs": [],
   "source": [
    "    # Run Classification Metrics"
   ]
  },
  {
   "cell_type": "code",
   "execution_count": null,
   "id": "5a569510",
   "metadata": {},
   "outputs": [],
   "source": []
  }
 ],
 "metadata": {
  "accelerator": "GPU",
  "colab": {
   "machine_shape": "hm",
   "name": "010_EDA_traditioanl_ML_Anomaly Detection.ipynb",
   "provenance": []
  },
  "kernelspec": {
   "display_name": "Python 3 (ipykernel)",
   "language": "python",
   "name": "python3"
  },
  "language_info": {
   "codemirror_mode": {
    "name": "ipython",
    "version": 3
   },
   "file_extension": ".py",
   "mimetype": "text/x-python",
   "name": "python",
   "nbconvert_exporter": "python",
   "pygments_lexer": "ipython3",
   "version": "3.9.16"
  }
 },
 "nbformat": 4,
 "nbformat_minor": 5
}
