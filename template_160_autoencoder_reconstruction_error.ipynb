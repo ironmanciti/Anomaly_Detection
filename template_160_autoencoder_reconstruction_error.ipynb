{
 "cells": [
  {
   "cell_type": "markdown",
   "id": "72be88d5",
   "metadata": {
    "id": "iEl3ncgPc0sv"
   },
   "source": [
    "\n",
    "# Autoencoder Reconstruction Error를 이용한 Fraud Detection\n",
    "\n",
    "- [Credit Card Fraud Detection](https://www.kaggle.com/mlg-ulb/creditcardfraud) - Kaggle\n",
    "\n",
    "\n",
    "- Highly Imbalanced Dataset - dataset는 2013 년 9 월 유럽 카드 소지자 신용 카드 거래로 만들었습니다. 이 dataset는 2 일 동안 발생한 거래를 보여 주며, 284,807 건의 거래 중 492 건의 fraud가 있습니다. 데이터세트는 매우 불균형하며 포지티브 클래스(사기)는 모든 거래의 0.172 %를 차지합니다.\n",
    "\n",
    "\n",
    "- 이 dataset는 PCA 변환의 결과인 숫자 입력 변수만 포함합니다. 안타깝게도 기밀 유지 문제로 인해 데이터에 대한 원래 feature와 추가 background 정보를 제공할 수 없습니다. 특성 V1, V2, ... V28은 PCA로 얻은 principal component이며 PCA로 변환되지 않은 유일한 특성은 `Time` 과 `Amount`입니다.`'Time` 특성은 각 트랜잭션과 데이터 세트의 첫 번째 트랜잭션 사이에 경과된 시간(초) 입니다. `Amount` 특성은 거래금액 입니다.\n",
    "\n",
    "\n",
    "\n",
    "- `Class`는 사기의 경우 1, 그렇지 않으면 0 입니다."
   ]
  },
  {
   "cell_type": "code",
   "execution_count": null,
   "id": "6472f3f2",
   "metadata": {},
   "outputs": [],
   "source": []
  },
  {
   "cell_type": "markdown",
   "id": "8bf05859",
   "metadata": {
    "id": "WTrPa78OJjUN"
   },
   "source": [
    "## 데이터셋 다운로드"
   ]
  },
  {
   "cell_type": "code",
   "execution_count": null,
   "id": "ec45d164",
   "metadata": {},
   "outputs": [],
   "source": []
  },
  {
   "cell_type": "markdown",
   "id": "8e966697",
   "metadata": {
    "id": "5Y0a-xNMeDEA"
   },
   "source": [
    "- 이 데이터셋은 극도로 편향되어 있습니다."
   ]
  },
  {
   "cell_type": "code",
   "execution_count": null,
   "id": "8062d3ab",
   "metadata": {},
   "outputs": [],
   "source": []
  },
  {
   "cell_type": "code",
   "execution_count": null,
   "id": "fb4ace43",
   "metadata": {},
   "outputs": [],
   "source": [
    "# 'Class' 열에서 사기(Fraud) 데이터의 개수를 계산합니다. 사기는 'Class' 값이 1인 경우입니다.\n",
    "# 'Class' 열에서 정상(Normal) 데이터의 개수를 계산합니다. 정상 데이터는 'Class' 값이 0인 경우입니다.\n",
    "# 전체 데이터의 개수를 계산합니다. 사기 데이터와 정상 데이터의 합입니다.\n",
    "# 전체 데이터 개수를 천 단위로 구분하여 출력합니다.\n",
    "# 사기 데이터의 비율을 전체 데이터에 대한 백분율로 계산하여 출력합니다.\n",
    "# 정상 데이터의 비율을 전체 데이터에 대한 백분율로 계산하여 출력합니다."
   ]
  },
  {
   "cell_type": "markdown",
   "id": "b4f10f26",
   "metadata": {
    "id": "Yz8jrMm2maRj"
   },
   "source": [
    "- Time 필드를 일중 시간으로 변환합니다.   \n",
    "- Amount 필드는 로그 스케일로 변환합니다."
   ]
  },
  {
   "cell_type": "code",
   "execution_count": null,
   "id": "c343c385",
   "metadata": {},
   "outputs": [],
   "source": [
    "# 'Time' 열의 값을 24시간 형식으로 변환합니다.\n",
    "# 각 값 x를 3600(초)로 나누어 시간 단위로 변환하고, 24로 나눈 나머지 값을 계산합니다.\n",
    "# 이는 시간을 24시간 형식으로 맞추기 위해 사용됩니다.\n",
    "# 'Amount' 열의 값을 로그 변환합니다.\n",
    "# 0이나 음수 값이 되는 것을 방지하기 위해 각 값에 1을 더한 후 자연 로그를 계산합니다.\n",
    "# 이는 데이터의 분포를 정규 분포에 가깝게 만들어 모델 학습에 도움이 되도록 하기 위함입니다."
   ]
  },
  {
   "cell_type": "markdown",
   "id": "501a0f98",
   "metadata": {
    "id": "6vzbL3QfJjUQ"
   },
   "source": [
    "- class 1 이 너무 적으므로 통상적인 7:3 대신 5:5 비율로 train, test set 분리"
   ]
  },
  {
   "cell_type": "code",
   "execution_count": null,
   "id": "e2d58ccb",
   "metadata": {},
   "outputs": [],
   "source": []
  },
  {
   "cell_type": "code",
   "execution_count": null,
   "id": "92a25bdb",
   "metadata": {},
   "outputs": [],
   "source": []
  },
  {
   "cell_type": "code",
   "execution_count": null,
   "id": "a32e83a1",
   "metadata": {},
   "outputs": [],
   "source": [
    "# y_train 데이터의 각 클래스 값의 개수를 계산한 후, 전체 개수로 나누어 비율을 계산합니다.\n",
    "# value_counts() 메서드는 각 클래스 값의 개수를 계산합니다.\n",
    "# count() 메서드는 전체 데이터의 개수를 계산합니다.\n",
    "# 각 클래스의 개수를 전체 개수로 나누어 비율을 계산합니다."
   ]
  },
  {
   "cell_type": "code",
   "execution_count": null,
   "id": "17fa3610",
   "metadata": {},
   "outputs": [],
   "source": []
  },
  {
   "cell_type": "markdown",
   "id": "57bb5791",
   "metadata": {
    "id": "otvOl-HcevoG"
   },
   "source": [
    "## Autoencoder Train"
   ]
  },
  {
   "cell_type": "markdown",
   "id": "7c1df2de",
   "metadata": {
    "id": "xPpRAl0TeQR8"
   },
   "source": [
    "- 정상 거래로만 오토 인코더를 교육합니다.   \n",
    "\n",
    "- 사기성(비정상) 거래의 재구성 error 가 비사기성 거래보다 높을 것으로 기대합니다."
   ]
  },
  {
   "cell_type": "code",
   "execution_count": null,
   "id": "e32cad7f",
   "metadata": {},
   "outputs": [],
   "source": [
    "# y_train이 0인 샘플만 선택하여 정상 데이터(X_train_normal)를 생성합니다.\n",
    "# y_train이 1인 샘플만 선택하여 사기 데이터(X_train_fraud)를 생성합니다.\n",
    "# 정상 데이터와 사기 데이터의 형태(shape)를 출력합니다."
   ]
  },
  {
   "cell_type": "code",
   "execution_count": null,
   "id": "d73dafec",
   "metadata": {},
   "outputs": [],
   "source": [
    "# y_test가 0인 샘플만 선택하여 정상 데이터(X_test_normal)를 생성합니다.\n",
    "# y_test가 1인 샘플만 선택하여 사기 데이터(X_test_fraud)를 생성합니다.\n",
    "# 정상 데이터와 사기 데이터의 형태(shape)를 출력합니다."
   ]
  },
  {
   "cell_type": "markdown",
   "id": "e7991452",
   "metadata": {
    "id": "CbX1U5aheSla"
   },
   "source": [
    "## DNN model 작성\n",
    "- 정상 데이터만 사용"
   ]
  },
  {
   "cell_type": "code",
   "execution_count": null,
   "id": "71b33edf",
   "metadata": {},
   "outputs": [],
   "source": [
    "# 입력 레이어를 정의합니다. 입력 데이터의 형태는 30차원입니다.\n",
    "# 인코더(Encoder) 레이어를 정의합니다.\n",
    "# 디코더(Decoder) 레이어를 정의합니다.\n",
    "# 오토인코더(Autoencoder) 모델을 정의합니다."
   ]
  },
  {
   "cell_type": "code",
   "execution_count": null,
   "id": "81c1f51d",
   "metadata": {},
   "outputs": [],
   "source": []
  },
  {
   "cell_type": "code",
   "execution_count": null,
   "id": "1ca14785",
   "metadata": {},
   "outputs": [],
   "source": []
  },
  {
   "cell_type": "markdown",
   "id": "1308ffd2",
   "metadata": {
    "id": "GMG2m7rYJjUT"
   },
   "source": [
    "### 정상 data로 만 train  "
   ]
  },
  {
   "cell_type": "code",
   "execution_count": null,
   "id": "7db84f53",
   "metadata": {},
   "outputs": [],
   "source": []
  },
  {
   "cell_type": "code",
   "execution_count": null,
   "id": "68fec216",
   "metadata": {},
   "outputs": [],
   "source": []
  },
  {
   "cell_type": "markdown",
   "id": "bf1fb6e2",
   "metadata": {
    "id": "wztaRRboxZuc"
   },
   "source": [
    "## Reconstruction Error 시각화\n",
    "\n",
    "- Anomaly data 와의 bar chart 비교를 위해 정상 abnormal data 갯수 만큼의 임의의 normal sample 을 선택"
   ]
  },
  {
   "cell_type": "code",
   "execution_count": null,
   "id": "3d920988",
   "metadata": {},
   "outputs": [],
   "source": [
    "# np.random.choice 함수는 X_train_normal의 길이만큼 범위에서 250개의 고유한 인덱스를 무작위로 선택합니다.\n",
    "# replace=False는 중복 없이 샘플을 선택하도록 합니다.\n",
    "# 선택된 인덱스를 사용하여 X_train_normal에서 샘플을 추출합니다."
   ]
  },
  {
   "cell_type": "markdown",
   "id": "affa0654",
   "metadata": {
    "id": "P8APIzpjVzQJ"
   },
   "source": [
    "### 정상 data 및 fraud data 의 autoencoder 재 구성값\n",
    "- 정상 data의 metric"
   ]
  },
  {
   "cell_type": "code",
   "execution_count": null,
   "id": "b51b7b0f",
   "metadata": {},
   "outputs": [],
   "source": [
    " # AE 결과값\n",
    "# input - output 간의 MSE 구하기"
   ]
  },
  {
   "cell_type": "markdown",
   "id": "e34d9ee6",
   "metadata": {
    "id": "bAjdGxX8maRo"
   },
   "source": [
    "- fraud data의 metric"
   ]
  },
  {
   "cell_type": "code",
   "execution_count": null,
   "id": "ec898266",
   "metadata": {},
   "outputs": [],
   "source": [
    "# AE 결과값\n",
    "# input - output 간의 MSE 구하기"
   ]
  },
  {
   "cell_type": "markdown",
   "id": "cdb4e822",
   "metadata": {
    "id": "In0qGo81Wz0Z"
   },
   "source": [
    "- 정상 data 와 anomaly data 간의 MSE 차이 시각화"
   ]
  },
  {
   "cell_type": "code",
   "execution_count": null,
   "id": "9928e893",
   "metadata": {},
   "outputs": [],
   "source": [
    "# 정상 데이터의 MSE 히스토그램을 그립니다.\n",
    "# bins=10은 히스토그램의 막대 수를 10으로 설정합니다.\n",
    "# color='blue'는 막대의 색상을 파란색으로 설정합니다.\n",
    "# histtype='step'은 막대의 외곽선만 그립니다.\n",
    "# label='normal'은 범례에 표시될 레이블을 설정합니다.\n",
    "# 비정상 데이터의 MSE 히스토그램을 그립니다.\n",
    "# bins=10은 히스토그램의 막대 수를 10으로 설정합니다.\n",
    "# color='red'는 막대의 색상을 빨간색으로 설정합니다.\n",
    "# histtype='step'은 막대의 외곽선만 그립니다.\n",
    "# label='abnormal'은 범례에 표시될 레이블을 설정합니다."
   ]
  },
  {
   "cell_type": "markdown",
   "id": "1c68ff2a",
   "metadata": {
    "id": "CXOYnoZvW7dE"
   },
   "source": [
    "- 정상, 비정상 data 의 box plot 비교"
   ]
  },
  {
   "cell_type": "code",
   "execution_count": null,
   "id": "88185a09",
   "metadata": {},
   "outputs": [],
   "source": [
    "# Nom_pred_mse와 ANom_pred_mse 데이터를 사용하여 박스 플롯을 생성합니다.\n",
    "# x축의 틱(tick) 위치와 레이블을 설정합니다.\n",
    "# ticks=[1, 2]는 x축의 틱 위치를 1과 2로 설정합니다.\n",
    "# labels=['Normal', 'Fraud']는 각각의 틱 위치에 대응하는 레이블을 'Normal'과 'Fraud'로 설정합니다."
   ]
  },
  {
   "cell_type": "markdown",
   "id": "883cf297",
   "metadata": {
    "id": "DzM40bzmU-UT"
   },
   "source": [
    "## Reconstruction error threshold 결정\n",
    "\n",
    "- 정상 data 로만 train 한 autoencoder model 의 재구성 결과의 원본과의 mse 차이를 기준으로 사기 거래 분류"
   ]
  },
  {
   "cell_type": "code",
   "execution_count": null,
   "id": "b23b0282",
   "metadata": {},
   "outputs": [],
   "source": [
    "# 정상 데이터로만 훈련시킨 오토인코더 모델을 사용하여 X_train 데이터에 대한 예측을 수행합니다.\n",
    "# predictions 은 오토인코더가 압축 --> 복원한 값\n",
    "# 원본 데이터(X_train)와 복원된 데이터(predictions) 간의 MSE(Mean Squared Error)를 계산합니다.\n",
    "# np.power(X_train - predictions, 2)은 원본 데이터와 예측된 데이터의 차이를 제곱합니다.\n",
    "# np.mean(..., axis=1)은 각 샘플에 대해 제곱 차이의 평균을 계산합니다.\n",
    "# 재구성 오차와 실제 클래스를 포함하는 데이터프레임을 생성합니다."
   ]
  },
  {
   "cell_type": "code",
   "execution_count": null,
   "id": "8a630008",
   "metadata": {},
   "outputs": [],
   "source": [
    "# 'true_class'를 기준으로 그룹화하여 각 클래스에 대한 통계 정보를 계산합니다.\n",
    "# describe() 메서드는 각 그룹에 대해 재구성 오차(reconstruction_error)의 통계 값을 계산합니다."
   ]
  },
  {
   "cell_type": "markdown",
   "id": "0a067666",
   "metadata": {
    "id": "rRQepwFre9UM"
   },
   "source": [
    "- 위에서 볼 수 있듯이 사기성이 아닌 경우의 오류는 사기성 사례의 오류보다 낮습니다.   \n",
    "\n",
    "\n",
    "- mean + 3 * std 를 threshold 로 사용하여 test set 의 재구성 error (squared error) 가 threshold 보다 크면 fraud 거래로 분류합니다.  \n",
    "\n",
    "<div align=\"center\">\n",
    "\n",
    "| 시그마 범위      | 포함 비율    | 이상치로 간주 비율     |\n",
    "|------------------|--------------|--------------------------|\n",
    "| ±1σ (1시그마)     | 약 68%       | 32% 이상치 가능성       |\n",
    "| ±2σ (2시그마)     | 약 95%       | 5% 이상치 가능성        |\n",
    "| ±2.5σ            | 약 98.8%     | 1.2% 이상치 가능성      |\n",
    "| ±3σ (3시그마)     | 약 99.7%     | 0.3% 이상치 가능성      |\n",
    "\n",
    "</div>"
   ]
  },
  {
   "cell_type": "code",
   "execution_count": null,
   "id": "2a0b30ea",
   "metadata": {},
   "outputs": [],
   "source": [
    "# 정상 클래스(클래스 0)의 재구성 오류에 대한 평균과 표준편차을 계산합니다.\n",
    "# 여러 시그마 수준에서의 임계값(threshold)을 계산합니다.\n",
    "# 평균에 각 시그마 수준(3, 2.5, 2)에서 표준 편차의 배수를 더하여 임계값을 설정합니다.\n",
    "# 시그마 임계값을 float로 변환해서 딕셔너리에 저장"
   ]
  },
  {
   "cell_type": "code",
   "execution_count": null,
   "id": "3d1acc94",
   "metadata": {},
   "outputs": [],
   "source": [
    "#  재구성 오차 리스트를 주어진 임계값(thresholds['3sigma'])과 비교하여 이상치 여부를 판단합니다.\n",
    "# - 재구성 오차가 임계값 이상이면: 이상치 → 1\n",
    "# - 재구성 오차가 임계값 미만이면: 정상치 → 0\n",
    "# - 결과는 [0, 5, 10, 50, 150] 각 값에 대해 판단한 리스트로 반환됩니다.\n",
    "# - 람다(lambda) 함수와 리스트 컴프리헨션을 함께 사용해 구현되었습니다."
   ]
  },
  {
   "cell_type": "markdown",
   "id": "f8a909f0",
   "metadata": {
    "id": "xHl-TL8smaRp"
   },
   "source": [
    "- 재구성 오류를 이용한 anomaly detection   \n",
    "- threshold 를 높일 수록 더 넓은 범위를 정상으로 인식하므로 recall 은 낮아집니다.  반면, 정말 확실한 것만 이상치로 인식하게 되므로 precision 은 높아집니다.\n",
    "\n",
    "- confusion matrix 시각화"
   ]
  },
  {
   "cell_type": "code",
   "execution_count": null,
   "id": "4cf62135",
   "metadata": {},
   "outputs": [],
   "source": [
    "# 임계값(thresholds)을 값에 따라 오름차순으로 정렬합니다.\n",
    "# sorted() 함수와 lambda 함수를 사용하여 임계값을 기준으로 정렬합니다.\n",
    "# 각 임계값에 대해 반복합니다.\n",
    "    # 오토인코더 모델을 사용하여 X_test 데이터에 대한 복원을 수행합니다.\n",
    "    # 원본 데이터(X_test)와 복원된 데이터(test_predictions) 간의 MSE(Mean Squared Error)를 계산합니다.\n",
    "    # MSE 값이 임계값 이상이면 1, 그렇지 않으면 0으로 설정하여 예측된 레이블(y_pred)을 생성합니다.\n",
    "    # 정밀도(Precision)를 계산하여 출력합니다.\n",
    "    # 재현율(Recall)을 계산하여 출력합니다.\n",
    "    # 혼동 행렬(confusion matrix)을 계산합니다.\n",
    "    # 혼동 행렬을 히트맵으로 시각화합니다."
   ]
  },
  {
   "cell_type": "markdown",
   "id": "34adfbb8",
   "metadata": {
    "id": "hqE9ZGcImaRq"
   },
   "source": [
    "### 실습 문제\n",
    "\n",
    "오토인코더 구조 변경 실험\n",
    "\n",
    "구조 A: 30 → 15 → 8 → 15 → 30\n",
    "\n",
    "구조 B: 30 → 10 → 30 (더 압축)\n",
    "\n",
    "구조 C: 30 → 25 → 30 (압축 없이 거의 그대로 복원)\n",
    "\n",
    "각 경우에 대한 평가지표 비교:\n",
    "\n",
    "- Reconstruction Error 분포  \n",
    "- Precision / Recall 변화"
   ]
  },
  {
   "cell_type": "code",
   "execution_count": null,
   "id": "ecd6042a",
   "metadata": {},
   "outputs": [],
   "source": []
  }
 ],
 "metadata": {
  "accelerator": "GPU",
  "colab": {
   "machine_shape": "hm",
   "provenance": []
  },
  "kernelspec": {
   "display_name": "Python 3 (ipykernel)",
   "language": "python",
   "name": "python3"
  },
  "language_info": {
   "codemirror_mode": {
    "name": "ipython",
    "version": 3
   },
   "file_extension": ".py",
   "mimetype": "text/x-python",
   "name": "python",
   "nbconvert_exporter": "python",
   "pygments_lexer": "ipython3",
   "version": "3.9.16"
  }
 },
 "nbformat": 4,
 "nbformat_minor": 5
}
