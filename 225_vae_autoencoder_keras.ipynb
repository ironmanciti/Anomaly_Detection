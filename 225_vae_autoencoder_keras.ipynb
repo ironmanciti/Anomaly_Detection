{
 "cells": [
  {
   "cell_type": "markdown",
   "metadata": {
    "id": "om2Bs3iExKgt"
   },
   "source": [
    "# 변이형 오토인코더"
   ]
  },
  {
   "cell_type": "code",
   "execution_count": null,
   "metadata": {},
   "outputs": [],
   "source": [
    "!pip install tensorflow==2.15.0"
   ]
  },
  {
   "cell_type": "code",
   "execution_count": 1,
   "metadata": {
    "id": "d-RSF_EpxKgu"
   },
   "outputs": [],
   "source": [
    "from tensorflow.keras.layers import Input, Conv2D, Flatten, Dense, \\\n",
    "                                                Conv2DTranspose, Reshape, Activation\n",
    "from tensorflow.keras.models import Model\n",
    "from tensorflow.keras.optimizers import Adam\n",
    "from tensorflow.keras.callbacks import ModelCheckpoint\n",
    "from tensorflow.keras.utils import plot_model\n",
    "import tensorflow_datasets as tfds\n",
    "import tensorflow as tf\n",
    "\n",
    "import matplotlib.pyplot as plt\n",
    "import numpy as np\n",
    "from IPython import display"
   ]
  },
  {
   "cell_type": "code",
   "execution_count": 2,
   "metadata": {
    "id": "fX2vjhh0xKgv"
   },
   "outputs": [],
   "source": [
    "BATCH_SIZE = 128\n",
    "LATENT_DIM = 2"
   ]
  },
  {
   "cell_type": "markdown",
   "metadata": {
    "id": "DGrnpEMFxKgv"
   },
   "source": [
    "## 데이터 load"
   ]
  },
  {
   "cell_type": "code",
   "execution_count": 3,
   "metadata": {
    "id": "Cnrbv-D2xKgw"
   },
   "outputs": [],
   "source": [
    "def map_image(image, label):\n",
    "    '''주어진 이미지에서 정규화되고 재구성된 텐서를 반환합니다.'''\n",
    "    image = tf.cast(image, dtype=tf.float32)\n",
    "    image = image / 255.0\n",
    "    image = tf.reshape(image, shape=(28, 28, 1,))\n",
    "    return image"
   ]
  },
  {
   "cell_type": "code",
   "execution_count": 4,
   "metadata": {
    "colab": {
     "base_uri": "https://localhost:8080/",
     "height": 163,
     "referenced_widgets": [
      "85ac7bf1f884403f930972bcdad4f9e0",
      "691d7ffc8920485186f17949ffe79a3d",
      "c51d566bbcbe48c88b2beb0821ae9d62",
      "910efe67723547a9980dade03477f70b",
      "81199febe54f4df7b0f0b386aa6e519c",
      "e4efc911ba9f47b387e2c1ff983f6449",
      "de8de0dd92914941858fba6ea2b2baf5",
      "7c84bf64bba54cd0929e9b9cd82dcd2d",
      "d8b71a1eadcf4ad48e6099c7840c8376",
      "2afb474cbac341a39bb17f6d0d1a73d9",
      "ed162c005cd4412f8bf74bc6257c402b"
     ]
    },
    "id": "jQy7x2FuxKgw",
    "outputId": "639563c6-184f-402f-97de-d1e9054ad8ce"
   },
   "outputs": [
    {
     "name": "stdout",
     "output_type": "stream",
     "text": [
      "Downloading and preparing dataset 11.06 MiB (download: 11.06 MiB, generated: 21.00 MiB, total: 32.06 MiB) to /root/tensorflow_datasets/mnist/3.0.1...\n"
     ]
    },
    {
     "data": {
      "application/vnd.jupyter.widget-view+json": {
       "model_id": "85ac7bf1f884403f930972bcdad4f9e0",
       "version_major": 2,
       "version_minor": 0
      },
      "text/plain": [
       "Dl Completed...:   0%|          | 0/5 [00:00<?, ? file/s]"
      ]
     },
     "metadata": {},
     "output_type": "display_data"
    },
    {
     "name": "stdout",
     "output_type": "stream",
     "text": [
      "Dataset mnist downloaded and prepared to /root/tensorflow_datasets/mnist/3.0.1. Subsequent calls will reuse this data.\n"
     ]
    },
    {
     "data": {
      "text/plain": [
       "(<_PrefetchDataset element_spec=(TensorSpec(shape=(28, 28, 1), dtype=tf.uint8, name=None), TensorSpec(shape=(), dtype=tf.int64, name=None))>,\n",
       " 60000,\n",
       " <_PrefetchDataset element_spec=(TensorSpec(shape=(28, 28, 1), dtype=tf.uint8, name=None), TensorSpec(shape=(), dtype=tf.int64, name=None))>,\n",
       " 10000)"
      ]
     },
     "execution_count": 4,
     "metadata": {},
     "output_type": "execute_result"
    }
   ],
   "source": [
    "train_dataset = tfds.load('mnist', as_supervised=True, split=\"train\")\n",
    "test_dataset = tfds.load('mnist', as_supervised=True, split=\"test\")\n",
    "train_dataset, len(train_dataset), test_dataset, len(test_dataset)"
   ]
  },
  {
   "cell_type": "code",
   "execution_count": 5,
   "metadata": {
    "colab": {
     "base_uri": "https://localhost:8080/"
    },
    "id": "VZq4kfG8xKgx",
    "outputId": "341717ae-4ebb-43db-fa1c-b2f34d8c648d"
   },
   "outputs": [
    {
     "data": {
      "text/plain": [
       "(<_BatchDataset element_spec=TensorSpec(shape=(None, 28, 28, 1), dtype=tf.float32, name=None)>,\n",
       " <_BatchDataset element_spec=TensorSpec(shape=(None, 28, 28, 1), dtype=tf.float32, name=None)>)"
      ]
     },
     "execution_count": 5,
     "metadata": {},
     "output_type": "execute_result"
    }
   ],
   "source": [
    "train_ds = train_dataset.map(map_image).shuffle(1024).batch(BATCH_SIZE)\n",
    "test_ds = test_dataset.map(map_image).shuffle(1024).batch(BATCH_SIZE)\n",
    "train_ds, test_ds"
   ]
  },
  {
   "cell_type": "markdown",
   "metadata": {
    "id": "PI-Vr-F3xKgx"
   },
   "source": [
    "## 신경망 구조 정의\n",
    "\n",
    "<img src=\"https://i.imgur.com/auIX6vL.png\" WIDTH=600/>|\n",
    "\n",
    "### Sampling Class\n",
    "\n",
    "먼저 'Sampling' 클래스를 빌드합니다. 이것은 인코더 출력의 평균 (mu) 및 표준 편차 (sigma)와 함께 가우스 노이즈 입력을 제공하는 맞춤형 Keras 레이어입니다. 실제로 이 레이어의 출력은 다음 방정식으로 제공됩니다.\n",
    "\n",
    "$$z = \\mu + e^{0.5\\sigma} * \\epsilon  $$\n",
    "\n",
    "여기서 $\\mu$ = mean, $\\sigma$ = standard deviation, $\\epsilon$ = random sample"
   ]
  },
  {
   "cell_type": "code",
   "execution_count": 22,
   "metadata": {
    "id": "A_q0CsQNbKLY"
   },
   "outputs": [],
   "source": [
    "class Sampling(tf.keras.layers.Layer):\n",
    "    def call(self, inputs):\n",
    "        \"\"\"인코더의 출력과 결합하여 무작위 샘플을 생성합니다.\n",
    "        Args:\n",
    "          inputs -- 인코더로부터의 출력 텐서 (평균 mu, 표준편차 sigma)\n",
    "        Returns:\n",
    "          무작위 샘플이 결합된 `inputs` 텐서\n",
    "        \"\"\"\n",
    "        # 인코더의 출력을 분해합니다.\n",
    "        mu, sigma = inputs\n",
    "\n",
    "        # 배치의 크기와 차원을 얻습니다.\n",
    "        batch = tf.shape(mu)[0]\n",
    "        dim = tf.shape(mu)[1]\n",
    "\n",
    "        # 무작위 텐서를 생성합니다.\n",
    "        epsilon = tf.keras.backend.random_normal(shape=(batch, dim))\n",
    "\n",
    "        # 재매개변수화 기법을 적용합니다.\n",
    "        return mu + tf.math.exp(0.5 * sigma) * epsilon"
   ]
  },
  {
   "cell_type": "markdown",
   "metadata": {
    "id": "CrdpfKseYbQL"
   },
   "source": [
    "### Kullback–Leibler Divergence\n",
    "모델의 생성 능력을 향상 시키려면 잠재 공간에 도입된 랜덤 정규 분포를 고려해야 합니다. 이를 위해 [Kullback–Leibler Divergence](https://arxiv.org/abs/2002.07514)가 계산되어 재구성 손실에 추가됩니다. 공식은 아래 함수에서 정의됩니다."
   ]
  },
  {
   "cell_type": "code",
   "execution_count": 23,
   "metadata": {
    "id": "lWnr5T3wdrHg"
   },
   "outputs": [],
   "source": [
    "def kl_reconstruction_loss(inputs, outputs, mu, sigma):\n",
    "    \"\"\"Kullback-Leibler 발산(KLD) 계산\n",
    "    Args:\n",
    "    inputs -- 데이터셋 배치\n",
    "    outputs -- Sampling 층의 출력\n",
    "    mu -- 평균\n",
    "    sigma -- 표준 편차\n",
    "\n",
    "    Returns:\n",
    "    KLD 손실\n",
    "    \"\"\"\n",
    "    # KLD 계산 공식 적용\n",
    "    kl_loss = 1 + sigma - tf.square(mu) - tf.math.exp(sigma)\n",
    "    # 배치 내 평균을 계산하고 -0.5를 곱하여 최종 KLD 손실을 계산\n",
    "    kl_loss = tf.reduce_mean(kl_loss) * -0.5\n",
    "\n",
    "    return kl_loss"
   ]
  },
  {
   "cell_type": "markdown",
   "metadata": {
    "id": "ZUqKgSlOYn_F"
   },
   "source": [
    "### VAE Model\n",
    "이제 전체 VAE 모델을 정의할 수 있습니다. KL reconstruction loss를 추가하기 위해 `model.add_loss()`를 사용합니다. 이 손실을 계산하는 것은 `y_true`와 `y_pred`를 사용하지 않으므로 `model.compile()`에서 사용할 수 없습니다.\n",
    "\n",
    "- add_loss() 메서드 : 손실이 있는 경우, 자동으로 합산되어 주 손실에 추가"
   ]
  },
  {
   "cell_type": "code",
   "execution_count": 24,
   "metadata": {
    "colab": {
     "base_uri": "https://localhost:8080/"
    },
    "id": "OdwFlub8eOr5",
    "outputId": "ad6f051c-299c-4f1c-bf36-c0cac40f0b78"
   },
   "outputs": [
    {
     "name": "stdout",
     "output_type": "stream",
     "text": [
      "Model: \"model_3\"\n",
      "__________________________________________________________________________________________________\n",
      " Layer (type)                Output Shape                 Param #   Connected to                  \n",
      "==================================================================================================\n",
      " input_3 (InputLayer)        [(None, 28, 28, 1)]          0         []                            \n",
      "                                                                                                  \n",
      " conv2d_4 (Conv2D)           (None, 28, 28, 32)           320       ['input_3[0][0]']             \n",
      "                                                                                                  \n",
      " conv2d_5 (Conv2D)           (None, 14, 14, 64)           18496     ['conv2d_4[0][0]']            \n",
      "                                                                                                  \n",
      " conv2d_6 (Conv2D)           (None, 7, 7, 64)             36928     ['conv2d_5[0][0]']            \n",
      "                                                                                                  \n",
      " conv2d_7 (Conv2D)           (None, 7, 7, 64)             36928     ['conv2d_6[0][0]']            \n",
      "                                                                                                  \n",
      " flatten_1 (Flatten)         (None, 3136)                 0         ['conv2d_7[0][0]']            \n",
      "                                                                                                  \n",
      " dense_8 (Dense)             (None, 20)                   62740     ['flatten_1[0][0]']           \n",
      "                                                                                                  \n",
      " mu (Dense)                  (None, 2)                    42        ['dense_8[0][0]']             \n",
      "                                                                                                  \n",
      " sigma (Dense)               (None, 2)                    42        ['dense_8[0][0]']             \n",
      "                                                                                                  \n",
      " sampling_1 (Sampling)       (None, 2)                    0         ['mu[0][0]',                  \n",
      "                                                                     'sigma[0][0]']               \n",
      "                                                                                                  \n",
      "==================================================================================================\n",
      "Total params: 155496 (607.41 KB)\n",
      "Trainable params: 155496 (607.41 KB)\n",
      "Non-trainable params: 0 (0.00 Byte)\n",
      "__________________________________________________________________________________________________\n"
     ]
    }
   ],
   "source": [
    "# 인코더의 입력 - 28x28 크기의 그레이스케일 이미지\n",
    "encoder_inputs = Input(shape=(28, 28, 1))\n",
    "x = Conv2D(32, kernel_size=3, strides=1, padding = 'same', activation='leaky_relu')(encoder_inputs)\n",
    "x = Conv2D(64, kernel_size=3, strides=2, padding = 'same', activation='leaky_relu')(x)\n",
    "x = Conv2D(64, kernel_size=3, strides=2, padding = 'same', activation='leaky_relu')(x)\n",
    "before_flatten = Conv2D(64, kernel_size=3, strides=1, padding = 'same', activation='leaky_relu')(x)\n",
    "# 플랫튼 레이어를 통해 특징 맵을 1차원 벡터로 변환\n",
    "x = Flatten()(before_flatten)\n",
    "# Dense 레이어를 통해 특징을 20차원의 벡터로 변환\n",
    "x = Dense(20, activation='relu')(x)\n",
    "\n",
    "# 잠재 공간의 평균과 로그 분산을 나타내는 두 개의 Dense 레이어를 정의\n",
    "mu = Dense(LATENT_DIM, name='mu')(x)\n",
    "sigma = Dense(LATENT_DIM, name='sigma')(x)\n",
    "# Sampling 레이어를 사용하여 평균과 로그 분산을 기반으로 잠재 벡터 z를 샘플링\n",
    "# Sampling() 함수는 재매개변수화(reparameterization) 트릭을 구현\n",
    "z = Sampling()((mu, sigma))\n",
    "\n",
    "# 입력과 출력을 정의하여 인코더 모델을 생성합니다.\n",
    "encoder = Model(encoder_inputs, outputs=[mu, sigma, z])\n",
    "# 인코더 모델의 요약 정보를 출력합니다.\n",
    "encoder.summary()"
   ]
  },
  {
   "cell_type": "code",
   "execution_count": 25,
   "metadata": {
    "colab": {
     "base_uri": "https://localhost:8080/"
    },
    "id": "0iG-o30UxKgy",
    "outputId": "d9437644-e1f2-430a-9093-4db52b964733"
   },
   "outputs": [
    {
     "data": {
      "text/plain": [
       "TensorShape([None, 7, 7, 64])"
      ]
     },
     "execution_count": 25,
     "metadata": {},
     "output_type": "execute_result"
    }
   ],
   "source": [
    "shape = before_flatten.shape\n",
    "shape"
   ]
  },
  {
   "cell_type": "code",
   "execution_count": 26,
   "metadata": {
    "colab": {
     "base_uri": "https://localhost:8080/"
    },
    "id": "nWUgLJtkxKgz",
    "outputId": "fd79497e-3acf-4760-fcaf-1e3102ee38ce"
   },
   "outputs": [
    {
     "name": "stdout",
     "output_type": "stream",
     "text": [
      "Model: \"model_4\"\n",
      "_________________________________________________________________\n",
      " Layer (type)                Output Shape              Param #   \n",
      "=================================================================\n",
      " input_4 (InputLayer)        [(None, 2)]               0         \n",
      "                                                                 \n",
      " dense_9 (Dense)             (None, 3136)              9408      \n",
      "                                                                 \n",
      " reshape_1 (Reshape)         (None, 7, 7, 64)          0         \n",
      "                                                                 \n",
      " conv2d_transpose_4 (Conv2D  (None, 7, 7, 64)          36928     \n",
      " Transpose)                                                      \n",
      "                                                                 \n",
      " conv2d_transpose_5 (Conv2D  (None, 14, 14, 64)        36928     \n",
      " Transpose)                                                      \n",
      "                                                                 \n",
      " conv2d_transpose_6 (Conv2D  (None, 28, 28, 32)        18464     \n",
      " Transpose)                                                      \n",
      "                                                                 \n",
      " conv2d_transpose_7 (Conv2D  (None, 28, 28, 1)         289       \n",
      " Transpose)                                                      \n",
      "                                                                 \n",
      "=================================================================\n",
      "Total params: 102017 (398.50 KB)\n",
      "Trainable params: 102017 (398.50 KB)\n",
      "Non-trainable params: 0 (0.00 Byte)\n",
      "_________________________________________________________________\n"
     ]
    }
   ],
   "source": [
    "# 디코더의 입력 - 잠재 공간의 차원과 일치해야 합니다.\n",
    "decoder_inputs = Input(shape=(LATENT_DIM,))\n",
    "# Dense 레이어를 통해 입력을 원본 이미지의 차원으로 변환하기 위한 벡터로 확장\n",
    "# shape[1] * shape[2] * shape[3]은 원본 이미지 차원을 재구성하기 위한 총 원소 수\n",
    "x = Dense(shape[1] * shape[2] * shape[3])(decoder_inputs)\n",
    "# Reshape 레이어를 통해 1차원 벡터를 원본 이미지의 차원과 동일한 3차원 형태로 재구성\n",
    "x = Reshape((shape[1], shape[2], shape[3]))(x)\n",
    "# Conv2DTranspose 레이어를 사용하여 업샘플링과 동시에 특징 맵 학습\n",
    "x = Conv2DTranspose(filters=64, kernel_size=3, strides=1, padding = 'same', activation='leaky_relu')(x)\n",
    "x = Conv2DTranspose(filters=64, kernel_size=3, strides=2, padding = 'same', activation='leaky_relu')(x)\n",
    "x = Conv2DTranspose(filters=32, kernel_size=3, strides=2, padding = 'same', activation='leaky_relu')(x)\n",
    "# 최종 Conv2DTranspose 레이어는 원본 이미지의 채널 수와 일치하는 필터 수(예: 그레이스케일 이미지의 경우 1)를 사용하며,\n",
    "# sigmoid 활성화 함수를 통해 최종 이미지의 픽셀 값을 [0, 1] 범위로 조정합니다.\n",
    "decoder_output = Conv2DTranspose(filters=1, kernel_size=3, strides=1, padding = 'same', activation='sigmoid')(x)\n",
    "\n",
    "# 입력과 출력을 정의하여 디코더 모델을 생성\n",
    "decoder = Model(decoder_inputs, decoder_output)\n",
    "decoder.summary()"
   ]
  },
  {
   "cell_type": "code",
   "execution_count": 27,
   "metadata": {
    "id": "P6I-Lur2xKgz"
   },
   "outputs": [],
   "source": [
    "# VAE 모델의 입력을 인코더의 입력으로 설정합니다. 이는 원본 이미지 데이터가 됩니다.\n",
    "vae_inputs = encoder_inputs\n",
    "# 인코더를 통과시켜 평균(mu), 표준 편차(sigma), 그리고 잠재 공간의 벡터(z)를 얻습니다.\n",
    "mu, sigma, z = encoder(vae_inputs)\n",
    "# 디코더를 사용하여 잠재 공간의 벡터(z)로부터 이미지를 재구성\n",
    "reconstructed = decoder(z)\n",
    "\n",
    "# 입력과 재구성된 이미지를 사용하여 VAE 모델을 생성\n",
    "vae = Model(vae_inputs, reconstructed)\n",
    "# Kullback-Leibler 발산을 계산하는 함수를 사용하여 손실을 추가합니다. 이는 잠재 공간의 분포가\n",
    "# 우리가 원하는 분포(예: 표준 정규 분포)에 가까워지도록 돕습니다.\n",
    "loss = kl_reconstruction_loss(vae_inputs, z, mu, sigma)\n",
    "# add_loss는 사용자 정의 손실을 추가하는 메서드\n",
    "vae.add_loss(loss)"
   ]
  },
  {
   "cell_type": "code",
   "execution_count": 28,
   "metadata": {
    "id": "gFk9qqqyxKg0"
   },
   "outputs": [],
   "source": [
    "learning_rate = 0.001\n",
    "optimizer = Adam(learning_rate=learning_rate)\n",
    "\n",
    "# 학습 과정에서의 평균 손실을 추적\n",
    "loss_metric = tf.keras.metrics.Mean()\n",
    "# 이진 교차 엔트로피 손실 함수를 사용합니다.\n",
    "bce_loss = tf.keras.losses.BinaryCrossentropy()"
   ]
  },
  {
   "cell_type": "markdown",
   "metadata": {
    "id": "QvMKf_R3xKg0"
   },
   "source": [
    "## 오토인코더 훈련"
   ]
  },
  {
   "cell_type": "code",
   "execution_count": 29,
   "metadata": {
    "id": "gBNKddyVxZa3"
   },
   "outputs": [],
   "source": [
    "def generate_and_save_images(decoder, epoch, step, test_input):\n",
    "    \"\"\"이미지 16개를 생성하고 저장하는 도우미 함수\n",
    "    Args:\n",
    "    epoch -- 학습 중인 현재 에포크 번호\n",
    "    step -- 학습 중인 현재 스텝 번호\n",
    "    test_input -- (16, LATENT_DIM) 모양의 임의의 텐서\n",
    "    \"\"\"\n",
    "    # 테스트 입력에서 이미지 생성\n",
    "    reconstructed = decoder(test_input)\n",
    "\n",
    "    # 결과 플롯\n",
    "    fig = plt.figure(figsize=(4, 4))\n",
    "\n",
    "    for i in range(reconstructed.shape[0]):\n",
    "        plt.subplot(4, 4, i+1)\n",
    "        plt.imshow(reconstructed[i, :, :, 0], cmap='gray')  # i번째 이미지를 회색조로 표시\n",
    "        plt.axis('off')  # 축을 표시하지 않음\n",
    "\n",
    "    fig.suptitle(\"epoch: {}, step: {}\".format(epoch, step))  # 그림의 제목에 에포크와 스텝 표시\n",
    "    plt.savefig('image_at_epoch_{:04d}_step{:04d}.png'.format(epoch, step))  # 파일로 저장\n",
    "    plt.show()"
   ]
  },
  {
   "cell_type": "code",
   "execution_count": 14,
   "metadata": {
    "colab": {
     "base_uri": "https://localhost:8080/",
     "height": 404
    },
    "id": "I7SlF5GbxKg0",
    "outputId": "2ffa82dc-963d-4847-eb04-9ece2871ca3d"
   },
   "outputs": [
    {
     "data": {
      "image/png": "[encoded data removed]",
      "text/plain": [
       "<Figure size 400x400 with 16 Axes>"
      ]
     },
     "metadata": {},
     "output_type": "display_data"
    },
    {
     "name": "stdout",
     "output_type": "stream",
     "text": [
      "Epoch: 49 step: 0 mean loss = 180.20435\n"
     ]
    }
   ],
   "source": [
    "epochs = 50\n",
    "\n",
    "for epoch in range(epochs):\n",
    "    print('Start of epoch %d' % (epoch,))\n",
    "\n",
    "    for step, (x_batch_train, x_batch_test) in enumerate(zip(train_ds, test_ds)):\n",
    "        with tf.GradientTape() as tape:\n",
    "            # VAE 모델에 배치 입력을 공급하여 재구성된 결과를 얻음\n",
    "            reconstructed = vae(x_batch_train)\n",
    "\n",
    "            # 재구성 손실을 계산\n",
    "            # 입력과 출력을 평탄화하여 이진 교차 엔트로피 손실 계산\n",
    "            flattened_inputs = tf.reshape(x_batch_train, shape=[-1])\n",
    "            flattened_outputs = tf.reshape(reconstructed, shape=[-1])\n",
    "            loss = bce_loss(flattened_inputs, flattened_outputs) * 784  # 28x28 이미지 크기에 해당하는 손실 확장\n",
    "\n",
    "            # KLD 정규화 손실을 추가\n",
    "            loss += sum(vae.losses)      # vae.losses에는 KLD 손실이 포함됨\n",
    "\n",
    "        # 그라디언트를 계산하고 가중치 업데이트\n",
    "        grads = tape.gradient(loss, vae.trainable_weights)\n",
    "        optimizer.apply_gradients(zip(grads, vae.trainable_weights))\n",
    "\n",
    "        # 손실 지표 계산\n",
    "        loss_metric(loss)\n",
    "\n",
    "        # 매 100 스텝마다 결과 표시\n",
    "        if step % 100 == 0:\n",
    "            display.clear_output(wait=False)\n",
    "            _, _, z = encoder(x_batch_test[:16])             # 테스트 배치에서 잠재 벡터 z를 얻음\n",
    "            generate_and_save_images(decoder, epoch, step, z)  # 디코더를 사용해 이미지 생성 및 저장\n",
    "            print('Epoch: %s step: %s mean loss = %s' % (epoch, step, loss_metric.result().numpy()))  # 현재 에포크, 스텝, 평균 손실 출력"
   ]
  },
  {
   "cell_type": "code",
   "execution_count": 15,
   "metadata": {
    "colab": {
     "base_uri": "https://localhost:8080/",
     "height": 404
    },
    "id": "XHXyRpg9ASS5",
    "outputId": "d9f5cbda-5f59-4562-d0e5-7455b3b4025b"
   },
   "outputs": [
    {
     "name": "stdout",
     "output_type": "stream",
     "text": [
      "(128, 28, 28, 1)\n"
     ]
    },
    {
     "data": {
      "image/png": "[encoded data removed]",
      "text/plain": [
       "<Figure size 400x400 with 16 Axes>"
      ]
     },
     "metadata": {},
     "output_type": "display_data"
    }
   ],
   "source": [
    "x_batch_test = next(iter(test_ds))  # 테스트 데이터셋에서 첫 번째 배치를 가져옴\n",
    "print(x_batch_test.shape)             # 가져온 배치의 형태를 출력\n",
    "\n",
    "_, _, z = encoder(x_batch_test[:16])  # 인코더를 사용하여 테스트 배치의 처음 16개 샘플로부터 잠재 변수 z를 생성\n",
    "generate_and_save_images(decoder, epoch, step, z)  # 디코더와 z를 사용하여 이미지를 생성하고 저장하는 함수 호출"
   ]
  },
  {
   "cell_type": "markdown",
   "metadata": {
    "id": "OFOAwbrf5LAb"
   },
   "source": [
    "## 원본 그림 재구성"
   ]
  },
  {
   "cell_type": "code",
   "execution_count": 16,
   "metadata": {
    "colab": {
     "base_uri": "https://localhost:8080/"
    },
    "id": "RHuG-kdsNCaz",
    "outputId": "26f54c57-b768-4475-fe8d-0db00a3b7021"
   },
   "outputs": [
    {
     "data": {
      "text/plain": [
       "TensorShape([10, 28, 28, 1])"
      ]
     },
     "execution_count": 16,
     "metadata": {},
     "output_type": "execute_result"
    }
   ],
   "source": [
    "n_to_show = 10\n",
    "example_images = x_batch_test[:n_to_show]\n",
    "example_images.shape"
   ]
  },
  {
   "cell_type": "code",
   "execution_count": 17,
   "metadata": {
    "id": "CA9yqpb7DAbL"
   },
   "outputs": [],
   "source": [
    "mu, sigma, z = encoder(example_images)\n",
    "reconst_images  = decoder(mu, sigma, z)"
   ]
  },
  {
   "cell_type": "code",
   "execution_count": 18,
   "metadata": {
    "colab": {
     "base_uri": "https://localhost:8080/",
     "height": 244
    },
    "id": "5A4fzcv9xKg0",
    "outputId": "daff7220-feeb-470c-bd98-f5e09653f2c9"
   },
   "outputs": [
    {
     "data": {
      "image/png": "[encoded data removed]",
      "text/plain": [
       "<Figure size 1500x300 with 20 Axes>"
      ]
     },
     "metadata": {},
     "output_type": "display_data"
    }
   ],
   "source": [
    "fig = plt.figure(figsize=(15, 3))\n",
    "fig.subplots_adjust(hspace=0.4, wspace=0.4)  # 서브플롯 간의 간격 조정\n",
    "\n",
    "for i in range(n_to_show):  # 원본 이미지 표시\n",
    "    img = example_images[i].numpy().squeeze()  # 텐서를 NumPy 배열로 변환 후 차원 축소\n",
    "    sub = fig.add_subplot(2, n_to_show, i+1)  # 2행 n_to_show열의 그리드에서 (i+1)번째 위치에 서브플롯 생성\n",
    "    sub.axis('off')\n",
    "    sub.text(0.5, -0.35, str(np.round(z[i],1)), fontsize=10, ha='center', transform=sub.transAxes)  # 잠재 변수 z의 값을 서브플롯 아래에 텍스트로 표시\n",
    "    sub.imshow(img, cmap='gray_r')  # 이미지를 그레이스케일 반전으로 표시\n",
    "\n",
    "for i in range(n_to_show):  # 재구성된 이미지 표시\n",
    "    img = reconst_images[i].numpy().reshape(28, 28)  # 재구성된 이미지를 28x28로 재구성\n",
    "    sub = fig.add_subplot(2, n_to_show, i+n_to_show+1)  # 2행 n_to_show열의 그리드에서 두 번째 행의 (i+1)번째 위치에 서브플롯 생성\n",
    "    sub.axis('off')\n",
    "    sub.imshow(img, cmap='gray_r')  # 이미지를 그레이스케일 반전으로 표시\n"
   ]
  },
  {
   "cell_type": "code",
   "execution_count": 18,
   "metadata": {
    "id": "hd8LFXEZXA2Z"
   },
   "outputs": [],
   "source": []
  }
 ],
 "metadata": {
  "accelerator": "GPU",
  "colab": {
   "gpuType": "T4",
   "provenance": []
  },
  "kernelspec": {
   "display_name": "Python 3 (ipykernel)",
   "language": "python",
   "name": "python3"
  },
  "language_info": {
   "codemirror_mode": {
    "name": "ipython",
    "version": 3
   },
   "file_extension": ".py",
   "mimetype": "text/x-python",
   "name": "python",
   "nbconvert_exporter": "python",
   "pygments_lexer": "ipython3",
   "version": "3.9.7"
  },
  "widgets": {
   "application/vnd.jupyter.widget-state+json": {
    "2afb474cbac341a39bb17f6d0d1a73d9": {
     "model_module": "@jupyter-widgets/base",
     "model_module_version": "1.2.0",
     "model_name": "LayoutModel",
     "state": {
      "_model_module": "@jupyter-widgets/base",
      "_model_module_version": "1.2.0",
      "_model_name": "LayoutModel",
      "_view_count": null,
      "_view_module": "@jupyter-widgets/base",
      "_view_module_version": "1.2.0",
      "_view_name": "LayoutView",
      "align_content": null,
      "align_items": null,
      "align_self": null,
      "border": null,
      "bottom": null,
      "display": null,
      "flex": null,
      "flex_flow": null,
      "grid_area": null,
      "grid_auto_columns": null,
      "grid_auto_flow": null,
      "grid_auto_rows": null,
      "grid_column": null,
      "grid_gap": null,
      "grid_row": null,
      "grid_template_areas": null,
      "grid_template_columns": null,
      "grid_template_rows": null,
      "height": null,
      "justify_content": null,
      "justify_items": null,
      "left": null,
      "margin": null,
      "max_height": null,
      "max_width": null,
      "min_height": null,
      "min_width": null,
      "object_fit": null,
      "object_position": null,
      "order": null,
      "overflow": null,
      "overflow_x": null,
      "overflow_y": null,
      "padding": null,
      "right": null,
      "top": null,
      "visibility": null,
      "width": null
     }
    },
    "691d7ffc8920485186f17949ffe79a3d": {
     "model_module": "@jupyter-widgets/controls",
     "model_module_version": "1.5.0",
     "model_name": "HTMLModel",
     "state": {
      "_dom_classes": [],
      "_model_module": "@jupyter-widgets/controls",
      "_model_module_version": "1.5.0",
      "_model_name": "HTMLModel",
      "_view_count": null,
      "_view_module": "@jupyter-widgets/controls",
      "_view_module_version": "1.5.0",
      "_view_name": "HTMLView",
      "description": "",
      "description_tooltip": null,
      "layout": "IPY_MODEL_e4efc911ba9f47b387e2c1ff983f6449",
      "placeholder": "​",
      "style": "IPY_MODEL_de8de0dd92914941858fba6ea2b2baf5",
      "value": "Dl Completed...: 100%"
     }
    },
    "7c84bf64bba54cd0929e9b9cd82dcd2d": {
     "model_module": "@jupyter-widgets/base",
     "model_module_version": "1.2.0",
     "model_name": "LayoutModel",
     "state": {
      "_model_module": "@jupyter-widgets/base",
      "_model_module_version": "1.2.0",
      "_model_name": "LayoutModel",
      "_view_count": null,
      "_view_module": "@jupyter-widgets/base",
      "_view_module_version": "1.2.0",
      "_view_name": "LayoutView",
      "align_content": null,
      "align_items": null,
      "align_self": null,
      "border": null,
      "bottom": null,
      "display": null,
      "flex": null,
      "flex_flow": null,
      "grid_area": null,
      "grid_auto_columns": null,
      "grid_auto_flow": null,
      "grid_auto_rows": null,
      "grid_column": null,
      "grid_gap": null,
      "grid_row": null,
      "grid_template_areas": null,
      "grid_template_columns": null,
      "grid_template_rows": null,
      "height": null,
      "justify_content": null,
      "justify_items": null,
      "left": null,
      "margin": null,
      "max_height": null,
      "max_width": null,
      "min_height": null,
      "min_width": null,
      "object_fit": null,
      "object_position": null,
      "order": null,
      "overflow": null,
      "overflow_x": null,
      "overflow_y": null,
      "padding": null,
      "right": null,
      "top": null,
      "visibility": null,
      "width": null
     }
    },
    "81199febe54f4df7b0f0b386aa6e519c": {
     "model_module": "@jupyter-widgets/base",
     "model_module_version": "1.2.0",
     "model_name": "LayoutModel",
     "state": {
      "_model_module": "@jupyter-widgets/base",
      "_model_module_version": "1.2.0",
      "_model_name": "LayoutModel",
      "_view_count": null,
      "_view_module": "@jupyter-widgets/base",
      "_view_module_version": "1.2.0",
      "_view_name": "LayoutView",
      "align_content": null,
      "align_items": null,
      "align_self": null,
      "border": null,
      "bottom": null,
      "display": null,
      "flex": null,
      "flex_flow": null,
      "grid_area": null,
      "grid_auto_columns": null,
      "grid_auto_flow": null,
      "grid_auto_rows": null,
      "grid_column": null,
      "grid_gap": null,
      "grid_row": null,
      "grid_template_areas": null,
      "grid_template_columns": null,
      "grid_template_rows": null,
      "height": null,
      "justify_content": null,
      "justify_items": null,
      "left": null,
      "margin": null,
      "max_height": null,
      "max_width": null,
      "min_height": null,
      "min_width": null,
      "object_fit": null,
      "object_position": null,
      "order": null,
      "overflow": null,
      "overflow_x": null,
      "overflow_y": null,
      "padding": null,
      "right": null,
      "top": null,
      "visibility": null,
      "width": null
     }
    },
    "85ac7bf1f884403f930972bcdad4f9e0": {
     "model_module": "@jupyter-widgets/controls",
     "model_module_version": "1.5.0",
     "model_name": "HBoxModel",
     "state": {
      "_dom_classes": [],
      "_model_module": "@jupyter-widgets/controls",
      "_model_module_version": "1.5.0",
      "_model_name": "HBoxModel",
      "_view_count": null,
      "_view_module": "@jupyter-widgets/controls",
      "_view_module_version": "1.5.0",
      "_view_name": "HBoxView",
      "box_style": "",
      "children": [
       "IPY_MODEL_691d7ffc8920485186f17949ffe79a3d",
       "IPY_MODEL_c51d566bbcbe48c88b2beb0821ae9d62",
       "IPY_MODEL_910efe67723547a9980dade03477f70b"
      ],
      "layout": "IPY_MODEL_81199febe54f4df7b0f0b386aa6e519c"
     }
    },
    "910efe67723547a9980dade03477f70b": {
     "model_module": "@jupyter-widgets/controls",
     "model_module_version": "1.5.0",
     "model_name": "HTMLModel",
     "state": {
      "_dom_classes": [],
      "_model_module": "@jupyter-widgets/controls",
      "_model_module_version": "1.5.0",
      "_model_name": "HTMLModel",
      "_view_count": null,
      "_view_module": "@jupyter-widgets/controls",
      "_view_module_version": "1.5.0",
      "_view_name": "HTMLView",
      "description": "",
      "description_tooltip": null,
      "layout": "IPY_MODEL_2afb474cbac341a39bb17f6d0d1a73d9",
      "placeholder": "​",
      "style": "IPY_MODEL_ed162c005cd4412f8bf74bc6257c402b",
      "value": " 5/5 [00:04&lt;00:00,  1.11s/ file]"
     }
    },
    "c51d566bbcbe48c88b2beb0821ae9d62": {
     "model_module": "@jupyter-widgets/controls",
     "model_module_version": "1.5.0",
     "model_name": "FloatProgressModel",
     "state": {
      "_dom_classes": [],
      "_model_module": "@jupyter-widgets/controls",
      "_model_module_version": "1.5.0",
      "_model_name": "FloatProgressModel",
      "_view_count": null,
      "_view_module": "@jupyter-widgets/controls",
      "_view_module_version": "1.5.0",
      "_view_name": "ProgressView",
      "bar_style": "success",
      "description": "",
      "description_tooltip": null,
      "layout": "IPY_MODEL_7c84bf64bba54cd0929e9b9cd82dcd2d",
      "max": 5,
      "min": 0,
      "orientation": "horizontal",
      "style": "IPY_MODEL_d8b71a1eadcf4ad48e6099c7840c8376",
      "value": 5
     }
    },
    "d8b71a1eadcf4ad48e6099c7840c8376": {
     "model_module": "@jupyter-widgets/controls",
     "model_module_version": "1.5.0",
     "model_name": "ProgressStyleModel",
     "state": {
      "_model_module": "@jupyter-widgets/controls",
      "_model_module_version": "1.5.0",
      "_model_name": "ProgressStyleModel",
      "_view_count": null,
      "_view_module": "@jupyter-widgets/base",
      "_view_module_version": "1.2.0",
      "_view_name": "StyleView",
      "bar_color": null,
      "description_width": ""
     }
    },
    "de8de0dd92914941858fba6ea2b2baf5": {
     "model_module": "@jupyter-widgets/controls",
     "model_module_version": "1.5.0",
     "model_name": "DescriptionStyleModel",
     "state": {
      "_model_module": "@jupyter-widgets/controls",
      "_model_module_version": "1.5.0",
      "_model_name": "DescriptionStyleModel",
      "_view_count": null,
      "_view_module": "@jupyter-widgets/base",
      "_view_module_version": "1.2.0",
      "_view_name": "StyleView",
      "description_width": ""
     }
    },
    "e4efc911ba9f47b387e2c1ff983f6449": {
     "model_module": "@jupyter-widgets/base",
     "model_module_version": "1.2.0",
     "model_name": "LayoutModel",
     "state": {
      "_model_module": "@jupyter-widgets/base",
      "_model_module_version": "1.2.0",
      "_model_name": "LayoutModel",
      "_view_count": null,
      "_view_module": "@jupyter-widgets/base",
      "_view_module_version": "1.2.0",
      "_view_name": "LayoutView",
      "align_content": null,
      "align_items": null,
      "align_self": null,
      "border": null,
      "bottom": null,
      "display": null,
      "flex": null,
      "flex_flow": null,
      "grid_area": null,
      "grid_auto_columns": null,
      "grid_auto_flow": null,
      "grid_auto_rows": null,
      "grid_column": null,
      "grid_gap": null,
      "grid_row": null,
      "grid_template_areas": null,
      "grid_template_columns": null,
      "grid_template_rows": null,
      "height": null,
      "justify_content": null,
      "justify_items": null,
      "left": null,
      "margin": null,
      "max_height": null,
      "max_width": null,
      "min_height": null,
      "min_width": null,
      "object_fit": null,
      "object_position": null,
      "order": null,
      "overflow": null,
      "overflow_x": null,
      "overflow_y": null,
      "padding": null,
      "right": null,
      "top": null,
      "visibility": null,
      "width": null
     }
    },
    "ed162c005cd4412f8bf74bc6257c402b": {
     "model_module": "@jupyter-widgets/controls",
     "model_module_version": "1.5.0",
     "model_name": "DescriptionStyleModel",
     "state": {
      "_model_module": "@jupyter-widgets/controls",
      "_model_module_version": "1.5.0",
      "_model_name": "DescriptionStyleModel",
      "_view_count": null,
      "_view_module": "@jupyter-widgets/base",
      "_view_module_version": "1.2.0",
      "_view_name": "StyleView",
      "description_width": ""
     }
    }
   }
  }
 },
 "nbformat": 4,
 "nbformat_minor": 4
}
