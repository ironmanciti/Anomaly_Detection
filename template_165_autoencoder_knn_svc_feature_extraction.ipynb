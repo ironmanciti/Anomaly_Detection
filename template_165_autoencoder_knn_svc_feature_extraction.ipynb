{
 "cells": [
  {
   "cell_type": "markdown",
   "id": "bb0374d7",
   "metadata": {
    "id": "iEl3ncgPc0sv"
   },
   "source": [
    "\n",
    "# Autoencoder 와 지도학습 모델을 이용한 신용카드 Fraud Detection\n",
    "\n",
    "- [Credit Card Fraud Detection](https://www.kaggle.com/mlg-ulb/creditcardfraud) - Kaggle\n",
    "\n",
    "\n",
    "- Highly Imbalanced Dataset - dataset는 2013 년 9 월 유럽 카드 소지자 신용 카드 거래로 만들었습니다. 이 dataset는 2 일 동안 발생한 거래를 보여 주며, 284,807 건의 거래 중 492 건의 fraud가 있습니다. 데이터세트는 매우 불균형하며 포지티브 클래스(사기)는 모든 거래의 0.172 %를 차지합니다.\n",
    "\n",
    "\n",
    "- 이 dataset는 PCA 변환의 결과인 숫자 입력 변수만 포함합니다. 안타깝게도 기밀 유지 문제로 인해 데이터에 대한 원래 feature와 추가 background 정보를 제공할 수 없습니다. 특성 V1, V2, ... V28은 PCA로 얻은 principal component이며 PCA로 변환되지 않은 유일한 특성은 'Time' 과 'Amount' 입니다. 'time' 특성은 각 트랜잭션과 데이터 세트의 첫 번째 트랜잭션 사이에 경과된 시간(초) 입니다. 'Amount' 특성은 거래금액 입니다.\n",
    "\n",
    "\n",
    "\n",
    "- 'Class'는 사기의 경우 1, 그렇지 않으면 0 입니다.  \n",
    "\n",
    "- Colab 에서 실행"
   ]
  },
  {
   "cell_type": "code",
   "execution_count": null,
   "id": "a551d67f",
   "metadata": {},
   "outputs": [],
   "source": []
  },
  {
   "cell_type": "markdown",
   "id": "a8f8bfb5",
   "metadata": {
    "id": "WTrPa78OJjUN"
   },
   "source": [
    "## Downloading of dataset"
   ]
  },
  {
   "cell_type": "code",
   "execution_count": null,
   "id": "be6c6240",
   "metadata": {},
   "outputs": [],
   "source": []
  },
  {
   "cell_type": "markdown",
   "id": "7a6426ce",
   "metadata": {
    "id": "5Y0a-xNMeDEA"
   },
   "source": [
    "- 이 데이터셋은 극도록 편향되어 있습니다."
   ]
  },
  {
   "cell_type": "code",
   "execution_count": null,
   "id": "09565801",
   "metadata": {},
   "outputs": [],
   "source": []
  },
  {
   "cell_type": "code",
   "execution_count": null,
   "id": "248fd633",
   "metadata": {},
   "outputs": [],
   "source": [
    "# 'Class' 열에서 사기(Fraud) 데이터의 개수를 계산합니다. 사기는 'Class' 값이 1인 경우입니다.\n",
    "# 'Class' 열에서 정상(Normal) 데이터의 개수를 계산합니다. 정상 데이터는 'Class' 값이 0인 경우입니다.\n",
    "# 전체 데이터의 개수를 계산합니다. 사기 데이터와 정상 데이터의 합입니다.\n",
    "# 전체 데이터에 대한 백분율로 계산하여 출력합니다."
   ]
  },
  {
   "cell_type": "markdown",
   "id": "950d5e71",
   "metadata": {
    "id": "PoYryN6O6X3U"
   },
   "source": [
    "- Time 필드를 일중 시간으로 변환합니다.   \n",
    "- Amount 필드는 로그 스케일로 변환합니다."
   ]
  },
  {
   "cell_type": "code",
   "execution_count": null,
   "id": "b2442cec",
   "metadata": {},
   "outputs": [],
   "source": [
    "# 'Time' 열의 값을 일중 시간 형식으로 변환합니다.\n",
    "# 각 값 x를 3600(초)로 나누어 시간 단위로 변환하고, 24로 나눈 나머지 값을 계산합니다.\n",
    "# 이는 시간을 24시간 형식으로 맞추기 위해 사용됩니다.\n",
    "# 'Amount' 열의 값을 로그 변환합니다.\n",
    "# 로그 변환을 위해 각 값에 1을 더한 후 자연 로그를 계산합니다.\n",
    "# 이는 데이터의 분포를 정규 분포에 가깝게 만들어 모델 학습에 도움이 되도록 하기 위함입니다."
   ]
  },
  {
   "cell_type": "markdown",
   "id": "1c1403a3",
   "metadata": {
    "id": "6vzbL3QfJjUQ"
   },
   "source": [
    "- class 1 이 너무 적으므로 통상적인 7:3 대신 5:5 비율로 train, test set 분리"
   ]
  },
  {
   "cell_type": "code",
   "execution_count": null,
   "id": "294c4cfc",
   "metadata": {},
   "outputs": [],
   "source": []
  },
  {
   "cell_type": "code",
   "execution_count": null,
   "id": "76916b02",
   "metadata": {},
   "outputs": [],
   "source": []
  },
  {
   "cell_type": "code",
   "execution_count": null,
   "id": "bfdcbe57",
   "metadata": {},
   "outputs": [],
   "source": [
    "# Train set의 정상/사기 거래 비율"
   ]
  },
  {
   "cell_type": "code",
   "execution_count": null,
   "id": "63ab7d8c",
   "metadata": {},
   "outputs": [],
   "source": [
    "# Test set 의 정상/사기 거래 비율"
   ]
  },
  {
   "cell_type": "markdown",
   "id": "22683ea8",
   "metadata": {
    "id": "otvOl-HcevoG"
   },
   "source": [
    "## Autoencoder Train"
   ]
  },
  {
   "cell_type": "markdown",
   "id": "d6f342f6",
   "metadata": {
    "id": "xPpRAl0TeQR8"
   },
   "source": [
    "- 모든 데이터를 이용하여 autoencoder 학습\n",
    "\n",
    "- Autoencoder 의 encoder 부분을 feature extractor 로 이용"
   ]
  },
  {
   "cell_type": "markdown",
   "id": "d2a52b8f",
   "metadata": {
    "id": "Nh2xw3tcfng9"
   },
   "source": [
    "## autoencoder의 인코더 부분 및 k-NN / SVC 사용\n",
    "\n",
    "훈련 데이터세트의 모든 사례 (사기/정상)를 사용하여 훈련하고 그 결과를 사용하여 인스턴스들을 12 차원 공간에 매핑합니다. 매핑된 케이스는 분류를 위해 k-NN, SVM, DNN 모델에 공급됩니다."
   ]
  },
  {
   "cell_type": "markdown",
   "id": "a9c17b1f",
   "metadata": {
    "id": "NFr1kJuI6X3Z"
   },
   "source": [
    "### Auto Encoder model 작성\n",
    "- encoder 부분만 사용할 수 있도록 encoder 와 decoder network 을 분리하여 작성\n",
    "- decoder는 훈련된 encoder를 얻기 위한 역할"
   ]
  },
  {
   "cell_type": "code",
   "execution_count": null,
   "id": "41427477",
   "metadata": {},
   "outputs": [],
   "source": [
    "# 입력 레이어를 정의합니다. 입력 데이터의 형태는 30차원입니다.\n",
    "# 인코더(Encoder) 레이어를 정의합니다.\n",
    "# 디코더(Decoder) 레이어를 정의합니다.\n",
    "# 인코더 모델을 정의합니다.\n",
    "# 오토인코더(Autoencoder) 모델을 정의합니다."
   ]
  },
  {
   "cell_type": "code",
   "execution_count": null,
   "id": "cb204bc0",
   "metadata": {},
   "outputs": [],
   "source": []
  },
  {
   "cell_type": "code",
   "execution_count": null,
   "id": "1074db39",
   "metadata": {},
   "outputs": [],
   "source": []
  },
  {
   "cell_type": "code",
   "execution_count": null,
   "id": "e175e777",
   "metadata": {},
   "outputs": [],
   "source": []
  },
  {
   "cell_type": "markdown",
   "id": "9168342c",
   "metadata": {
    "id": "hYRDsZ6ygSJq"
   },
   "source": [
    "## KNN, SVC\n",
    "- train input 으로 사용하기 위한 encoder output 출력"
   ]
  },
  {
   "cell_type": "code",
   "execution_count": null,
   "id": "fd3f65f1",
   "metadata": {},
   "outputs": [],
   "source": []
  },
  {
   "cell_type": "markdown",
   "id": "b2ed464d",
   "metadata": {
    "id": "CQRykR2-6X3b"
   },
   "source": [
    "- encoder output 을 feature 로 이용하여 knn, svc model train"
   ]
  },
  {
   "cell_type": "code",
   "execution_count": null,
   "id": "bf7239cb",
   "metadata": {},
   "outputs": [],
   "source": [
    "# 서포트 벡터 머신(SVM) 모델을 생성합니다.\n",
    "# k-NN 분류기를 생성합니다."
   ]
  },
  {
   "cell_type": "code",
   "execution_count": null,
   "id": "bb4f23bb",
   "metadata": {},
   "outputs": [],
   "source": [
    "# training set을 encoder에 통과시켜 얻은 feature를 이용하여 model 훈련"
   ]
  },
  {
   "cell_type": "code",
   "execution_count": null,
   "id": "730a8108",
   "metadata": {},
   "outputs": [],
   "source": []
  },
  {
   "cell_type": "markdown",
   "id": "bb91f7f8",
   "metadata": {
    "id": "2jPSlZE56X3c"
   },
   "source": [
    "- train 된 모델을 이용하여 test set 분류"
   ]
  },
  {
   "cell_type": "code",
   "execution_count": null,
   "id": "5358f3a0",
   "metadata": {},
   "outputs": [],
   "source": [
    "# encoder_all 모델은 입력 데이터를 압축된 표현(저차원 공간)으로 변환합니다.\n",
    "# SVM 모델을 사용하여 인코더 모델의 출력 대해 클래스 레이블을 예측합니다.\n",
    "# 예측된 클래스 레이블을 출력합니다."
   ]
  },
  {
   "cell_type": "code",
   "execution_count": null,
   "id": "e0edee0d",
   "metadata": {},
   "outputs": [],
   "source": [
    "# k-NN 모델을 사용하여 인코더 모델의 출력 대해 클래스 레이블을 예측합니다.\n",
    "# 예측된 클래스 레이블을 출력합니다."
   ]
  },
  {
   "cell_type": "markdown",
   "id": "a7c24917",
   "metadata": {
    "id": "vxdpmFah6X3c"
   },
   "source": [
    "### DNN 이진 분류 모델 작성"
   ]
  },
  {
   "cell_type": "code",
   "execution_count": null,
   "id": "569528bb",
   "metadata": {},
   "outputs": [],
   "source": []
  },
  {
   "cell_type": "code",
   "execution_count": null,
   "id": "8215e4fe",
   "metadata": {},
   "outputs": [],
   "source": [
    "# encoder_all 모델은 입력 데이터를 압축된 표현(저차원 공간)으로 변환합니다."
   ]
  },
  {
   "cell_type": "code",
   "execution_count": null,
   "id": "e3ea791c",
   "metadata": {},
   "outputs": [],
   "source": []
  },
  {
   "cell_type": "code",
   "execution_count": null,
   "id": "05877d6f",
   "metadata": {},
   "outputs": [],
   "source": []
  },
  {
   "cell_type": "markdown",
   "id": "c8bedc66",
   "metadata": {
    "id": "W52kNVXq-H-d"
   },
   "source": [
    "분류기로 사용한 전통적 머신러닝 2 개 모델과 딥러닝 모델의 성능 비교"
   ]
  },
  {
   "cell_type": "code",
   "execution_count": null,
   "id": "99f44870",
   "metadata": {},
   "outputs": [],
   "source": [
    "    # 정밀도(Precision)를 계산하여 출력합니다.\n",
    "    # 재현율(Recall)을 계산하여 출력합니다.\n",
    "    # 혼동 행렬(confusion matrix)을 계산합니다.\n",
    "    # 혼동 행렬을 히트맵으로 시각화합니다.\n",
    "    # x축 레이블을 설정합니다.\n",
    "    # y축 레이블을 설정합니다.\n",
    "    # 그래프의 제목을 설정합니다. 제목은 모델의 이름입니다.\n",
    "    # x축 틱 레이블을 설정합니다.\n",
    "    # y축 틱 레이블을 설정합니다.\n",
    "    # 틱 위치를 설정합니다.\n",
    "    # 그래프를 화면에 표시합니다."
   ]
  },
  {
   "cell_type": "markdown",
   "id": "5c81ab1b",
   "metadata": {
    "id": "x2EyyzmS3tzh"
   },
   "source": [
    "### 실습 문제\n",
    "\n",
    "- 오토인코더 구조 변경 :  \n",
    "현재 사용된 Autoencoder 구조를 변경해보고, 성능(Accuracy, Precision, Recall)이 어떻게 달라지는지 비교해보세요.\n",
    "\n",
    "    기존: 입력 30 → 중간 14 → 출력 30  \n",
    "    변경 A: 30 → 10 → 30  \n",
    "    변경 B: 30 → 8 → 4 → 8 → 30 (딥 오토인코더)  "
   ]
  },
  {
   "cell_type": "code",
   "execution_count": null,
   "id": "ddb9f311",
   "metadata": {},
   "outputs": [],
   "source": []
  }
 ],
 "metadata": {
  "accelerator": "GPU",
  "colab": {
   "machine_shape": "hm",
   "provenance": []
  },
  "kernelspec": {
   "display_name": "Python 3 (ipykernel)",
   "language": "python",
   "name": "python3"
  },
  "language_info": {
   "codemirror_mode": {
    "name": "ipython",
    "version": 3
   },
   "file_extension": ".py",
   "mimetype": "text/x-python",
   "name": "python",
   "nbconvert_exporter": "python",
   "pygments_lexer": "ipython3",
   "version": "3.9.16"
  }
 },
 "nbformat": 4,
 "nbformat_minor": 5
}
