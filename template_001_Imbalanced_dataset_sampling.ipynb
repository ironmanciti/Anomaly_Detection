{
 "cells": [
  {
   "cell_type": "markdown",
   "id": "6d987e57",
   "metadata": {},
   "source": [
    "# 불균형 분류에 대한 Random Oversampling 및 Undersampling \n",
    "\n",
    "## Random Undersampling \n",
    "\n",
    "- Random Undersampling은 다수 클래스에서 example 을 삭제하므로 모델에 중요한 정보를 잃을 수 있습니다.\n",
    "\n",
    "\n",
    "## Random Oversampling\n",
    "\n",
    "- Random Oversampling은 훈련 데이터 세트의 소수 클래스의 예제를 복제하므로 일부 모델에 대해 과적합을 초래할 수 있습니다.  \n",
    "\n",
    "- Training set 에서 복원 추출    "
   ]
  },
  {
   "cell_type": "markdown",
   "id": "8feb773d",
   "metadata": {},
   "source": [
    "## Imbalanced-Learn Library"
   ]
  },
  {
   "cell_type": "code",
   "execution_count": null,
   "id": "217711d4",
   "metadata": {},
   "outputs": [],
   "source": [
    "# !pip install scikit-learn==1.3.2\n",
    "# !pip install imbalanced-learn==0.11.0"
   ]
  },
  {
   "cell_type": "code",
   "execution_count": null,
   "id": "9fb3eff7",
   "metadata": {},
   "outputs": [],
   "source": []
  },
  {
   "cell_type": "code",
   "execution_count": null,
   "id": "3ec923f8",
   "metadata": {},
   "outputs": [],
   "source": []
  },
  {
   "cell_type": "markdown",
   "id": "89c41c2c",
   "metadata": {},
   "source": [
    "make_classification : 랜덤 n-class 분류 문제 생성  \n",
    "\n",
    "- weights :  각 클래스에 할당된 샘플의 비율. None - 균형 class\n",
    "- flip_y :  클래스가 무작위로 할당된 샘플의 비율. 값이 클수록 레이블에 노이즈가 발생하고 분류 작업이 더 어려워진다."
   ]
  },
  {
   "cell_type": "markdown",
   "id": "ae20aa1e",
   "metadata": {},
   "source": [
    "### 임의의 n-class 분류 문제를 생성\n",
    "- normal(0) : abnormal(1) = 99:1 의 비율로 data 생성"
   ]
  },
  {
   "cell_type": "code",
   "execution_count": null,
   "id": "e58baf24",
   "metadata": {},
   "outputs": [],
   "source": [
    "# 분류 문제를 위한 합성 데이터 세트 생성\n",
    "# n_samples=10000: 샘플의 총 수 10,000개\n",
    "# n_features=10: 특성(독립 변수)의 수 10개\n",
    "# n_classes=2: 클래스(종속 변수)의 수 2개, 이진 분류 문제를 의미\n",
    "# weights=(0.99,): 첫 번째 클래스의 샘플이 전체의 99%를 차지하도록 설정\n",
    "# flip_y=0.0: 샘플의 레이블을 무작위로 뒤집을 확률, 여기서는 0%로 설정"
   ]
  },
  {
   "cell_type": "code",
   "execution_count": null,
   "id": "4ee85189",
   "metadata": {},
   "outputs": [],
   "source": []
  },
  {
   "cell_type": "markdown",
   "id": "afdef3f4",
   "metadata": {},
   "source": [
    "### Over Sampling\n",
    "\n",
    "sampling_strategy  : 리샘플링 후 다수 클래스 샘플 수에 대한 소수 클래스 샘플 수의 원하는 비율  \n",
    "\n",
    "- minority class 를 oversampling 하여 normal(0) : abnormal(1) = 2:1 이 되도록 resample"
   ]
  },
  {
   "cell_type": "code",
   "execution_count": null,
   "id": "bc405c04",
   "metadata": {},
   "outputs": [],
   "source": [
    "# 오버샘플링 전략을 설정합니다. 여기서는 적은 클래스의 샘플 수를 전체의 50%로 맞추는 전략을 사용합니다.\n",
    "# X와 y 데이터를 오버샘플링하여 새로운 X_over와 y_over 데이터를 생성합니다.\n",
    "# 오버샘플링된 y 데이터의 클래스 분포 출력"
   ]
  },
  {
   "cell_type": "code",
   "execution_count": null,
   "id": "525339aa",
   "metadata": {},
   "outputs": [],
   "source": [
    "# y_over 데이터의 클래스 분포를 시각화합니다.\n",
    "# sns.countplot() 함수는 각 클래스의 샘플 수를 세어 막대 그래프로 보여줍니다."
   ]
  },
  {
   "cell_type": "markdown",
   "id": "aadab402",
   "metadata": {},
   "source": [
    "### Under Sampling\n",
    "\n",
    "sampling_strategy : `majority`: 다수 클래스만 리샘플링 \n",
    "\n",
    "- majority class 를 undersample 하여 normal(0) : abnormal(1) = 1:1 이 되도록 resample"
   ]
  },
  {
   "cell_type": "code",
   "execution_count": null,
   "id": "16c208a0",
   "metadata": {},
   "outputs": [],
   "source": [
    "# 'majority': 다수 클래스의 샘플 수를 소수 클래스의 샘플 수와 동일하게 줄입니다. "
   ]
  },
  {
   "cell_type": "code",
   "execution_count": null,
   "id": "da853365",
   "metadata": {},
   "outputs": [],
   "source": [
    "# y_under 데이터의 클래스 분포를 시각화합니다.\n",
    "# sns.countplot() 함수는 각 클래스의 샘플 수를 세어 막대 그래프로 보여줍니다."
   ]
  },
  {
   "cell_type": "markdown",
   "id": "f1bd1fae",
   "metadata": {},
   "source": [
    "## Random Oversampling 과 Undersampling을 동시 적용\n",
    "- 소수 class 를 oversampling 하여 normal(0) : abnormal(1) = 10:1 이 되도록 하고,  \n",
    "- 다수 class 를 undersampling 하여 normal(0) : abnormal(1) = 2:1 이 되도록 한다."
   ]
  },
  {
   "cell_type": "code",
   "execution_count": null,
   "id": "41278a38",
   "metadata": {},
   "outputs": [],
   "source": [
    "# sampling_strategy=0.1은 소수 클래스를 다수 클래스의 10%까지 증가시킴\n",
    "# sampling_strategy=0.5는 다수 클래스를 소수 클래스의 2배 수준으로 줄이기"
   ]
  },
  {
   "cell_type": "code",
   "execution_count": null,
   "id": "1aced2f2",
   "metadata": {},
   "outputs": [],
   "source": []
  },
  {
   "cell_type": "markdown",
   "id": "010ab592",
   "metadata": {},
   "source": [
    "### 임의의 n-class 분류 문제를 생성\n",
    "- normal(0) : abnormal(1) = 99:1 의 비율로 data 생성"
   ]
  },
  {
   "cell_type": "code",
   "execution_count": null,
   "id": "33305224",
   "metadata": {},
   "outputs": [],
   "source": [
    "# sample data 재 생성\n",
    "# y 데이터의 클래스 분포를 출력합니다."
   ]
  },
  {
   "cell_type": "markdown",
   "id": "f82e334f",
   "metadata": {},
   "source": [
    "## SMOTE (Synthetic Minority Over-Sampling Technique) 적용\n",
    "\n",
    "http://www.incodom.kr/SMOTE\n",
    "\n",
    "- SMOTE는 불균형 데이터셋에서 소수 클래스의 샘플을 늘려 데이터의 균형을 맞추기 위한 오버샘플링 기법입니다.  \n",
    "- 소수 클래스의 각 샘플에 대해 k-최근접 이웃(k-nearest neighbors)을 찾습니다. 기본적으로 k는 5로 설정됩니다.  \n",
    "- 각 소수 클래스 샘플에 대해 선택된 k-최근접 이웃 중 하나를 무작위로 선택합니다.  \n",
    "- 선택된 이웃과 원래 샘플 사이의 선형 간격을 따라 새로운 샘플을 생성합니다. 새로운 샘플은 원래 샘플과 이웃 샘플 사이의 선형 보간(interpolation)으로 생성됩니다.  "
   ]
  },
  {
   "cell_type": "code",
   "execution_count": null,
   "id": "81ff580a",
   "metadata": {},
   "outputs": [],
   "source": [
    "# SMOTE 객체를 생성합니다. sampling_strategy를 생략하면 소수 클래스가 다수 클래스와 같아질 때까지 오버샘플링합니다.\n",
    "# SMOTE를 사용하여 데이터셋을 재샘플링합니다."
   ]
  },
  {
   "cell_type": "code",
   "execution_count": null,
   "id": "22e13dc5",
   "metadata": {},
   "outputs": [],
   "source": []
  },
  {
   "cell_type": "markdown",
   "id": "75675dd6",
   "metadata": {},
   "source": [
    "- SMOTE 적용 전, 후 분포 시각화  \n",
    "\n",
    "- 시각화를 위해 2 차원으로 축소"
   ]
  },
  {
   "cell_type": "markdown",
   "id": "15841df7",
   "metadata": {},
   "source": [
    "SMOTE 적용전 original data 시각화"
   ]
  },
  {
   "cell_type": "code",
   "execution_count": null,
   "id": "91fbcad2",
   "metadata": {},
   "outputs": [],
   "source": []
  },
  {
   "cell_type": "code",
   "execution_count": null,
   "id": "ad743024",
   "metadata": {},
   "outputs": [],
   "source": [
    "# 클래스별 색상 정의 (0: 빨강, 1: 파랑)\n",
    "# 클래스 0에 해당하는 샘플의 PCA1, PCA2 추출\n",
    "# 클래스 1에 해당하는 샘플의 PCA1, PCA2 추출\n",
    "# x축, y축 라벨 및 범례 설정\n",
    "# 그래프 출력"
   ]
  },
  {
   "cell_type": "markdown",
   "id": "0238224c",
   "metadata": {},
   "source": [
    "SMOTE 적용 후 data 시각화"
   ]
  },
  {
   "cell_type": "code",
   "execution_count": null,
   "id": "9260981c",
   "metadata": {},
   "outputs": [],
   "source": []
  },
  {
   "cell_type": "code",
   "execution_count": null,
   "id": "e46a1e4e",
   "metadata": {},
   "outputs": [],
   "source": []
  },
  {
   "cell_type": "markdown",
   "id": "28b4c61e",
   "metadata": {},
   "source": [
    "## 실습 문제: 불균형 데이터 처리 및 시각화"
   ]
  },
  {
   "cell_type": "markdown",
   "id": "2c2f78a2",
   "metadata": {},
   "source": [
    "- 데이터 비율 조정"
   ]
  },
  {
   "cell_type": "code",
   "execution_count": null,
   "id": "69c34770",
   "metadata": {},
   "outputs": [],
   "source": [
    "# 1. 불균형 데이터 (95:5 비율) 생성\n",
    "# 2. RandomOverSampler 적용 (1:1 맞춤)\n",
    "# 3. RandomUnderSampler 적용 (1:1 맞춤)"
   ]
  },
  {
   "cell_type": "markdown",
   "id": "48ade143",
   "metadata": {},
   "source": [
    "- Oversampling → Undersampling 순차 적용"
   ]
  },
  {
   "cell_type": "code",
   "execution_count": null,
   "id": "5d6f74e8",
   "metadata": {},
   "outputs": [],
   "source": [
    "# 오버샘플링: 소수 클래스 → 다수 클래스의 10%까지 증가\n",
    "# 언더샘플링: 다수 클래스 → 소수 클래스의 2배까지 감소"
   ]
  },
  {
   "cell_type": "markdown",
   "id": "369710ee",
   "metadata": {},
   "source": [
    "- 위와 동일한 데이터셋을 사용하여 SMOTE를 적용하세요."
   ]
  },
  {
   "cell_type": "code",
   "execution_count": null,
   "id": "a5a068f2",
   "metadata": {},
   "outputs": [],
   "source": [
    "# SMOTE 적용\n",
    "# 스케일링 후 PCA 변환\n",
    "# 시각화\n",
    "# Before SMOTE\n",
    "# After SMOTE"
   ]
  }
 ],
 "metadata": {
  "kernelspec": {
   "display_name": "Python 3 (ipykernel)",
   "language": "python",
   "name": "python3"
  },
  "language_info": {
   "codemirror_mode": {
    "name": "ipython",
    "version": 3
   },
   "file_extension": ".py",
   "mimetype": "text/x-python",
   "name": "python",
   "nbconvert_exporter": "python",
   "pygments_lexer": "ipython3",
   "version": "3.9.16"
  }
 },
 "nbformat": 4,
 "nbformat_minor": 5
}
