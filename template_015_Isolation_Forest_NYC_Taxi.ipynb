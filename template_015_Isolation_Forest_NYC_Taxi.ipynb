{
 "cells": [
  {
   "cell_type": "markdown",
   "id": "48545fa2",
   "metadata": {},
   "source": [
    "# 015. Isolation Forest 를 이용한 NYC Taxi 탑승 정보 anomaly 검출\n",
    "\n",
    "- 이상을 감지하는 최신 기술 중 하나는 Isolation Forest 입니다. 이 알고리즘은 anomaly data가 few and different 데이터 포인트라는 사실을 기반으로 합니다. 이러한 속성의 결과로 anomaly data는 isolation 이라는 메커니즘에 영향을 받기 쉽습니다.  \n",
    "\n",
    "- 이 방법은 매우 유용하며 기존의 모든 방법과 근본적으로 다릅니다. 일반적으로 사용되는 기본 거리 및 밀도 측정 보다 이상을 감지하는 더 효과적이고 효율적인 수단으로 isolation을 사용합니다. 또한 이 방법은 선형 시간 복잡도가 낮고 메모리 요구 사항이 적은 알고리즘입니다. 데이터 세트의 크기에 관계없이 고정 크기의 작은 하위 샘플을 사용하여 적은 수의 트리로 우수한 성능의 모델을 구축합니다.\n",
    "\n",
    "- Isolation Forest는 feature를 무작위로 선택한 다음 선택한 feature의 최대값과 최소값 사이의 분할 값을 무작위로 선택하여 관측치를 isolate 합니다.\n",
    "\n",
    "- 재귀 분할은 트리 구조로 나타낼 수 있으므로 샘플을 분리하는 데 필요한 분할 수는 루트 노드에서 종료 노드까지의 경로 길이와 동일합니다.\n",
    "\n",
    "- 이러한 random tree forest에서 평균을 낸 경로 길이는 정상성 판단과 결정 기능의 척도입니다.\n",
    "\n",
    "- 랜덤 파티셔닝은 anomaly에 대해 더 짧은 경로를 생성합니다. 따라서 random tree forest가 집합적으로 특정 샘플에 대해 더 짧은 경로 길이를 생성하면 anomaly일 가능성이 높습니다.\n",
    "\n",
    "- 일반적인 기계 학습 방법은 학습하려는 패턴이 균형을 이룰 때 더 잘 작동하는 경향이 있습니다.\n",
    "\n",
    "\n",
    "### Isolation Forest 의 작동 방식\n",
    "\n",
    "- Isolation Forest 알고리즘은 feature를 무작위로 선택한 다음 선택한 feature의 최대값과 최소값 사이의 분할 값을 무작위로 선택하여 관측치를 분리합니다. \n",
    "\n",
    "- Isolation forest는 기본적으로 데이터셋을 의사결정나무(Decision Tree) 형태로 표현해 정상값을 분리하기 위해서는 의사결정나무를 깊숙하게 타고 내려가야 하고, 반대로 이상값은 의사결정나무 상단부에서 분리할 수 있다는 것을 이용합니다. 이 특성을 사용해 의사결정나무를 몇 회 타고 내려가야 분리되는가를 기준으로 정상과 이상을 분리합니다.\n",
    "\n",
    "- 알고리즘이 분리를 구성하는 방법은 먼저 isolation tree 또는 random decision tree 를 만드는 것입니다. 그런 다음 sample을 분리하기 위한 path의 길이로 score 를 계산합니다.\n",
    "\n",
    "- Isolation forest의 장점\n",
    "\n",
    "    - 군집기반 이상탐지 알고리즘에 비해 계산량이 매우 적다   \n",
    "    - 강건한(Robust)한 모델을 만들 수 있다"
   ]
  },
  {
   "cell_type": "code",
   "execution_count": null,
   "id": "f64da946",
   "metadata": {},
   "outputs": [],
   "source": []
  },
  {
   "cell_type": "markdown",
   "id": "0d678bb6",
   "metadata": {},
   "source": [
    "### Data download\n",
    "\n",
    "- 2014년 7월 부터 2015년 1월까지의 New York 시의 taxi 탑승 횟수 정보를 30분 단위로 기록한 data \n",
    "- 요일별 / 시간별로 탑승횟수를 비교하여 이상치(교통량이 평소 보다 특별히 많거나 적은 날) 검출"
   ]
  },
  {
   "cell_type": "code",
   "execution_count": null,
   "id": "60310ee4",
   "metadata": {},
   "outputs": [],
   "source": []
  },
  {
   "cell_type": "code",
   "execution_count": null,
   "id": "42c57480",
   "metadata": {},
   "outputs": [],
   "source": []
  },
  {
   "cell_type": "markdown",
   "id": "911a0d38",
   "metadata": {},
   "source": [
    "- timestamp column 을 object --> datetime64 로 변경"
   ]
  },
  {
   "cell_type": "code",
   "execution_count": null,
   "id": "e57be188",
   "metadata": {},
   "outputs": [],
   "source": []
  },
  {
   "cell_type": "markdown",
   "id": "0ada6ac8",
   "metadata": {},
   "source": [
    "## Feature Engineering\n",
    "- 시간 간격이 30분 단위이면 다루기 어려우므로, 1 시간 단위로 resample"
   ]
  },
  {
   "cell_type": "code",
   "execution_count": null,
   "id": "2d9a1943",
   "metadata": {},
   "outputs": [],
   "source": []
  },
  {
   "cell_type": "markdown",
   "id": "2f28c25d",
   "metadata": {},
   "source": [
    "-  `timestamp`로 부터 `시간`, `요일`을 new feature로 생성하여  column 추가  "
   ]
  },
  {
   "cell_type": "code",
   "execution_count": null,
   "id": "31c99360",
   "metadata": {},
   "outputs": [],
   "source": []
  },
  {
   "cell_type": "markdown",
   "id": "66f3b502",
   "metadata": {},
   "source": [
    "## EDA를 통해 시각적으로 Abnormal 한 날짜 검출"
   ]
  },
  {
   "cell_type": "markdown",
   "id": "2331e6c2",
   "metadata": {},
   "source": [
    "- 요일별 평균 탑승 횟수 시각화"
   ]
  },
  {
   "cell_type": "code",
   "execution_count": null,
   "id": "5fd13d7f",
   "metadata": {},
   "outputs": [],
   "source": [
    "# 'value' 칼럼을 'weekday' 칼럼에 따라 그룹화하고, 각 그룹의 평균을 계산합니다.\n",
    "# 그 결과를 막대 그래프로 시각화합니다."
   ]
  },
  {
   "cell_type": "markdown",
   "id": "13204ca9",
   "metadata": {},
   "source": [
    "- 시간대별 평균 탑승 횟수 시각화"
   ]
  },
  {
   "cell_type": "code",
   "execution_count": null,
   "id": "b0211192",
   "metadata": {},
   "outputs": [],
   "source": [
    "# 'value' 칼럼을 'hour' 칼럼에 따라 그룹화하고, 각 그룹의 평균을 계산합니다.\n",
    "# 이를 통해 시간대별(value에 대한) 평균 값을 얻을 수 있습니다."
   ]
  },
  {
   "cell_type": "markdown",
   "id": "be5fc337",
   "metadata": {},
   "source": [
    "- 전체 시계열 시각화"
   ]
  },
  {
   "cell_type": "code",
   "execution_count": null,
   "id": "db3f2dcd",
   "metadata": {},
   "outputs": [],
   "source": []
  },
  {
   "cell_type": "markdown",
   "id": "31d212df",
   "metadata": {},
   "source": [
    "2014.11 부근에 큰 peak 가 보이고, 2015.2 이전에 매우 작은 값이 보인다.  \n",
    "2014-11-02 는 뉴욕마라톤이 있어 관광객이 많았으며,  2015-01-27 에는 눈보라가 있어 교통이 마비 되었음.  \n",
    "\n",
    "해당일자 기간을 확대하여 시각화"
   ]
  },
  {
   "cell_type": "code",
   "execution_count": null,
   "id": "b8605822",
   "metadata": {},
   "outputs": [],
   "source": [
    "# 'timestamp' 열을 인덱스로 설정한 후, \n",
    "# 2014년 10월부터 2014년 12월까지의 데이터를 선택하고 'value' 열을 추출합니다."
   ]
  },
  {
   "cell_type": "code",
   "execution_count": null,
   "id": "a87f544d",
   "metadata": {},
   "outputs": [],
   "source": []
  },
  {
   "cell_type": "markdown",
   "id": "8d96d16f",
   "metadata": {},
   "source": [
    "## Isolation Forest를 이용하여 이상치 검출"
   ]
  },
  {
   "cell_type": "markdown",
   "id": "c4d553da-b132-4681-84c0-309612e1e8b1",
   "metadata": {},
   "source": [
    "## 1 - contamination parameter 를 이용한 threshold control  \n",
    "- contamination parameter - dataset 내의 이상치 비율\n",
    "\n",
    "- 보통 3가지 방법 중 하나로 contamination 값을 결정합니다:\n",
    "\n",
    "    - 1. 사전 지식 기반 - 도메인 전문가가 \"이상치가 약 0.4% 정도 될 것이다\"라고 판단하는 경우.  \n",
    "    \n",
    "    - 2. 경험적 추정 (실험적으로 탐색) - 여러 개의 값을 시도해보며 (예: 0.001 ~ 0.01) 이상치 검출 결과가 가장 설명력 있게 나오는 값을 선택  \n",
    "    \n",
    "    - 3. 레이블이 있는 이상치 샘플로부터 역산 : contamination = (이상치 샘플 수) / (전체 샘플 수)"
   ]
  },
  {
   "cell_type": "code",
   "execution_count": null,
   "id": "3ec75204",
   "metadata": {},
   "outputs": [],
   "source": [
    "# n_estimators: 트리의 개수를 500개로 설정\n",
    "# contamination: 데이터셋에서 이상치로 간주되는 비율을 0.004 (0.4%)로 설정\n",
    "# random_state: 결과의 재현성을 위해 난수 생성기의 시드를 0으로 설정\n",
    "#value와 hour 특성을 가진 데이터에 대해 학습"
   ]
  },
  {
   "cell_type": "markdown",
   "id": "26be66e9",
   "metadata": {},
   "source": [
    "outliers 검출. anomaly 는 -1. normal 은 1."
   ]
  },
  {
   "cell_type": "code",
   "execution_count": null,
   "id": "e9007e73",
   "metadata": {},
   "outputs": [],
   "source": []
  },
  {
   "cell_type": "markdown",
   "id": "ddb64825",
   "metadata": {},
   "source": [
    "outlier는 `yes`로 표시."
   ]
  },
  {
   "cell_type": "code",
   "execution_count": null,
   "id": "883b7d30",
   "metadata": {},
   "outputs": [],
   "source": [
    "# IsolationForest 모델을 사용하여 df[['value', 'hour']]의 각 데이터 포인트에 대한 이상치 여부를 예측\n",
    "# model.predict()는 이상치인 경우 -1, 정상인 경우 1을 반환\n",
    "# 반환된 예측 결과를 pandas Series로 변환\n",
    "# 예측 결과에 따라 'yes' 또는 'no'를 반환하는 함수를 apply 메소드를 통해 적용\n",
    "# 이상치인 경우 (-1) 'yes', 정상인 경우 (1) 'no'를 할당"
   ]
  },
  {
   "cell_type": "code",
   "execution_count": null,
   "id": "0cbbc939",
   "metadata": {},
   "outputs": [],
   "source": []
  },
  {
   "cell_type": "code",
   "execution_count": null,
   "id": "8f57f296",
   "metadata": {},
   "outputs": [],
   "source": []
  },
  {
   "cell_type": "markdown",
   "id": "3e8f63c1",
   "metadata": {},
   "source": [
    "### 2 - 임의의 threshold 설정 \n",
    "\n",
    "scores - 입력 샘플의 anomaly score 입니다. 낮을수록 비정상적입니다. 음수 점수는 outlier를 나타내고 양수 점수는 inlier를 나타냅니다."
   ]
  },
  {
   "cell_type": "code",
   "execution_count": null,
   "id": "e0e4b6eb",
   "metadata": {},
   "outputs": [],
   "source": [
    "# n_estimators=500: 500개의 트리를 사용하여 모델을 구성합니다.\n",
    "# df 데이터프레임의 'value' 열과 'hour' 열을 사용하여 모델을 학습시킵니다."
   ]
  },
  {
   "cell_type": "markdown",
   "id": "acaecf39",
   "metadata": {},
   "source": [
    "- decision_function - 평균 anomaly score 계산"
   ]
  },
  {
   "cell_type": "code",
   "execution_count": null,
   "id": "b754d039",
   "metadata": {},
   "outputs": [],
   "source": [
    "# IsolationForest 모델을 사용하여 'value'와 'hour' 열로 구성된 데이터를 평가합니다.\n",
    "# decision_function 메서드는 각 데이터 포인트의 이상치 점수를 반환합니다.\n",
    "# 이상치 점수는 음수 값을 가지며, 값이 작을수록 더 이상치임을 나타냅니다.\n",
    "# 이상치 점수를 출력합니다."
   ]
  },
  {
   "cell_type": "code",
   "execution_count": null,
   "id": "2085e798",
   "metadata": {},
   "outputs": [],
   "source": []
  },
  {
   "cell_type": "code",
   "execution_count": null,
   "id": "def650e1",
   "metadata": {},
   "outputs": [],
   "source": []
  },
  {
   "cell_type": "markdown",
   "id": "74414500",
   "metadata": {},
   "source": [
    "contamination parameter 와 임의의 score로 설정한 threshold 결과를 조합하여 비교하며 domain knowlege를 이용하여 outlier(교통량이 평소보다 특별히 많거나 적은 날) 를 구분하면 된다.  \n",
    "\n",
    "- 2014-07-04~07 : 독립기념일  \n",
    "- 2014-09-06 : 노동절 행진  \n",
    "- 2014-11-02 : 뉴욕 마라톤 대회  \n",
    "- 2015-01-26~28 : 심한 눈보라"
   ]
  },
  {
   "cell_type": "code",
   "execution_count": null,
   "id": "90124331",
   "metadata": {},
   "outputs": [],
   "source": [
    "# score 열의 값이 -0.16보다 작고, outliers 열의 값이 \"yes\"인 행을 선택합니다."
   ]
  },
  {
   "cell_type": "markdown",
   "id": "593519dd",
   "metadata": {},
   "source": [
    "결론 - EDA 를 통해 manually 찾아낸 abnormal 한 일자와 Isolated Forest 를 이용하여 Machine Learning으로 찾아낸 일자가 거의 일치함"
   ]
  },
  {
   "cell_type": "markdown",
   "id": "4325bd01-dd6f-4d68-85a7-3ecf9ff8e39a",
   "metadata": {},
   "source": [
    "### 실습 문제\n",
    "\n",
    "1. 이상치 비율 조정 비교\n",
    "    - contamination 값을 0.001, 0.01, 0.02로 각각 바꿔가며 이상치 탐지 결과를 비교해 보세요.  \n",
    "    - score 분포의 변화와 이상치 검출된 날짜가 어떻게 달라지는지 확인하세요.\n",
    "<br>\n",
    "2. Score Threshold 조정 실습  \n",
    "    - 임계값(threshold)을 -0.20, -0.10 등으로 조정하며 결과가 어떻게 달라지는지 비교해 보세요."
   ]
  },
  {
   "cell_type": "code",
   "execution_count": null,
   "id": "022b6a38",
   "metadata": {},
   "outputs": [],
   "source": []
  }
 ],
 "metadata": {
  "kernelspec": {
   "display_name": "Python 3 (ipykernel)",
   "language": "python",
   "name": "python3"
  },
  "language_info": {
   "codemirror_mode": {
    "name": "ipython",
    "version": 3
   },
   "file_extension": ".py",
   "mimetype": "text/x-python",
   "name": "python",
   "nbconvert_exporter": "python",
   "pygments_lexer": "ipython3",
   "version": "3.9.16"
  }
 },
 "nbformat": 4,
 "nbformat_minor": 5
}
