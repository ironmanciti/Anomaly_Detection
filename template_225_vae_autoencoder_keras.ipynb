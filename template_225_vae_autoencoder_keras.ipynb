{
 "cells": [
  {
   "cell_type": "markdown",
   "id": "761c1170",
   "metadata": {
    "id": "om2Bs3iExKgt"
   },
   "source": [
    "# 변이형 오토인코더"
   ]
  },
  {
   "cell_type": "code",
   "execution_count": null,
   "id": "d0b3784c",
   "metadata": {},
   "outputs": [],
   "source": []
  },
  {
   "cell_type": "code",
   "execution_count": null,
   "id": "b2118a5d",
   "metadata": {},
   "outputs": [],
   "source": []
  },
  {
   "cell_type": "code",
   "execution_count": null,
   "id": "2736c84b",
   "metadata": {},
   "outputs": [],
   "source": []
  },
  {
   "cell_type": "markdown",
   "id": "d382bf79",
   "metadata": {
    "id": "DGrnpEMFxKgv"
   },
   "source": [
    "## 데이터 load"
   ]
  },
  {
   "cell_type": "code",
   "execution_count": null,
   "id": "49cbeaa0",
   "metadata": {},
   "outputs": [],
   "source": [
    "def map_image(image, label):"
   ]
  },
  {
   "cell_type": "code",
   "execution_count": null,
   "id": "c8a1b8a5",
   "metadata": {},
   "outputs": [],
   "source": []
  },
  {
   "cell_type": "code",
   "execution_count": null,
   "id": "e4bd7f3f",
   "metadata": {},
   "outputs": [],
   "source": []
  },
  {
   "cell_type": "markdown",
   "id": "c4046ad1",
   "metadata": {
    "id": "PI-Vr-F3xKgx"
   },
   "source": [
    "## 신경망 구조 정의\n",
    "\n",
    "<img src=\"https://i.imgur.com/auIX6vL.png\" WIDTH=600/>|\n",
    "\n",
    "### Sampling Class\n",
    "\n",
    "먼저 'Sampling' 클래스를 빌드합니다. 이것은 인코더 출력의 평균 (mu) 및 표준 편차 (sigma)와 함께 가우스 노이즈 입력을 제공하는 맞춤형 Keras 레이어입니다. 실제로 이 레이어의 출력은 다음 방정식으로 제공됩니다.\n",
    "\n",
    "$$z = \\mu + e^{0.5\\sigma} * \\epsilon  $$\n",
    "\n",
    "여기서 $\\mu$ = mean, $\\sigma$ = standard deviation, $\\epsilon$ = random sample"
   ]
  },
  {
   "cell_type": "code",
   "execution_count": null,
   "id": "4a92d5b7",
   "metadata": {},
   "outputs": [],
   "source": [
    "class Sampling(tf.keras.layers.Layer):\n",
    "    def call(self, inputs):\n",
    "        # 인코더의 출력을 분해합니다.\n",
    "        # 배치의 크기와 차원을 얻습니다.\n",
    "        # 무작위 텐서를 생성합니다.\n",
    "        # 재매개변수화 기법을 적용합니다."
   ]
  },
  {
   "cell_type": "markdown",
   "id": "585827ec",
   "metadata": {
    "id": "CrdpfKseYbQL"
   },
   "source": [
    "### Kullback–Leibler Divergence\n",
    "모델의 생성 능력을 향상 시키려면 잠재 공간에 도입된 랜덤 정규 분포를 고려해야 합니다. 이를 위해 [Kullback–Leibler Divergence](https://arxiv.org/abs/2002.07514)가 계산되어 재구성 손실에 추가됩니다. 공식은 아래 함수에서 정의됩니다."
   ]
  },
  {
   "cell_type": "code",
   "execution_count": null,
   "id": "edb90976",
   "metadata": {},
   "outputs": [],
   "source": [
    "def kl_reconstruction_loss(inputs, outputs, mu, sigma):\n",
    "    # KLD 계산 공식 적용\n",
    "    # 배치 내 평균을 계산하고 -0.5를 곱하여 최종 KLD 손실을 계산"
   ]
  },
  {
   "cell_type": "markdown",
   "id": "a44ed74f",
   "metadata": {
    "id": "ZUqKgSlOYn_F"
   },
   "source": [
    "### VAE Model\n",
    "이제 전체 VAE 모델을 정의할 수 있습니다. KL reconstruction loss를 추가하기 위해 `model.add_loss()`를 사용합니다. 이 손실을 계산하는 것은 `y_true`와 `y_pred`를 사용하지 않으므로 `model.compile()`에서 사용할 수 없습니다.\n",
    "\n",
    "- add_loss() 메서드 : 손실이 있는 경우, 자동으로 합산되어 주 손실에 추가"
   ]
  },
  {
   "cell_type": "code",
   "execution_count": null,
   "id": "b1646238",
   "metadata": {},
   "outputs": [],
   "source": [
    "# 인코더의 입력 - 28x28 크기의 그레이스케일 이미지\n",
    "# 플랫튼 레이어를 통해 특징 맵을 1차원 벡터로 변환\n",
    "# Dense 레이어를 통해 특징을 20차원의 벡터로 변환\n",
    "# 잠재 공간의 평균과 로그 분산을 나타내는 두 개의 Dense 레이어를 정의\n",
    "# Sampling 레이어를 사용하여 평균과 로그 분산을 기반으로 잠재 벡터 z를 샘플링\n",
    "# Sampling() 함수는 재매개변수화(reparameterization) 트릭을 구현\n",
    "# 입력과 출력을 정의하여 인코더 모델을 생성합니다.\n",
    "# 인코더 모델의 요약 정보를 출력합니다."
   ]
  },
  {
   "cell_type": "code",
   "execution_count": null,
   "id": "3bd51fbe",
   "metadata": {},
   "outputs": [],
   "source": []
  },
  {
   "cell_type": "code",
   "execution_count": null,
   "id": "4a091323",
   "metadata": {},
   "outputs": [],
   "source": [
    "# 디코더의 입력 - 잠재 공간의 차원과 일치해야 합니다.\n",
    "# Dense 레이어를 통해 입력을 원본 이미지의 차원으로 변환하기 위한 벡터로 확장\n",
    "# shape[1] * shape[2] * shape[3]은 원본 이미지 차원을 재구성하기 위한 총 원소 수\n",
    "# Reshape 레이어를 통해 1차원 벡터를 원본 이미지의 차원과 동일한 3차원 형태로 재구성\n",
    "# Conv2DTranspose 레이어를 사용하여 업샘플링과 동시에 특징 맵 학습\n",
    "# 최종 Conv2DTranspose 레이어는 원본 이미지의 채널 수와 일치하는 필터 수(예: 그레이스케일 이미지의 경우 1)를 사용하며,\n",
    "# sigmoid 활성화 함수를 통해 최종 이미지의 픽셀 값을 [0, 1] 범위로 조정합니다.\n",
    "# 입력과 출력을 정의하여 디코더 모델을 생성"
   ]
  },
  {
   "cell_type": "code",
   "execution_count": null,
   "id": "fbc8f36d",
   "metadata": {},
   "outputs": [],
   "source": [
    "# VAE 모델의 입력을 인코더의 입력으로 설정합니다. 이는 원본 이미지 데이터가 됩니다.\n",
    "# 인코더를 통과시켜 평균(mu), 표준 편차(sigma), 그리고 잠재 공간의 벡터(z)를 얻습니다.\n",
    "# 디코더를 사용하여 잠재 공간의 벡터(z)로부터 이미지를 재구성\n",
    "# 입력과 재구성된 이미지를 사용하여 VAE 모델을 생성\n",
    "# Kullback-Leibler 발산을 계산하는 함수를 사용하여 손실을 추가합니다. 이는 잠재 공간의 분포가\n",
    "# 우리가 원하는 분포(예: 표준 정규 분포)에 가까워지도록 돕습니다.\n",
    "# add_loss는 사용자 정의 손실을 추가하는 메서드"
   ]
  },
  {
   "cell_type": "code",
   "execution_count": null,
   "id": "ee3f9b97",
   "metadata": {},
   "outputs": [],
   "source": [
    "# 학습 과정에서의 평균 손실을 추적\n",
    "# 이진 교차 엔트로피 손실 함수를 사용합니다."
   ]
  },
  {
   "cell_type": "markdown",
   "id": "87ed40cb",
   "metadata": {
    "id": "QvMKf_R3xKg0"
   },
   "source": [
    "## 오토인코더 훈련"
   ]
  },
  {
   "cell_type": "code",
   "execution_count": null,
   "id": "8cf271a4",
   "metadata": {},
   "outputs": [],
   "source": [
    "def generate_and_save_images(decoder, epoch, step, test_input):\n",
    "    # 테스트 입력에서 이미지 생성\n",
    "    # 결과 플롯"
   ]
  },
  {
   "cell_type": "code",
   "execution_count": null,
   "id": "a61651b8",
   "metadata": {},
   "outputs": [],
   "source": [
    "            # VAE 모델에 배치 입력을 공급하여 재구성된 결과를 얻음\n",
    "            # 재구성 손실을 계산\n",
    "            # 입력과 출력을 평탄화하여 이진 교차 엔트로피 손실 계산\n",
    "            # KLD 정규화 손실을 추가\n",
    "        # 그라디언트를 계산하고 가중치 업데이트\n",
    "        # 손실 지표 계산\n",
    "        # 매 100 스텝마다 결과 표시"
   ]
  },
  {
   "cell_type": "code",
   "execution_count": null,
   "id": "2cb6dc3a",
   "metadata": {},
   "outputs": [],
   "source": []
  },
  {
   "cell_type": "markdown",
   "id": "1d450366",
   "metadata": {
    "id": "OFOAwbrf5LAb"
   },
   "source": [
    "## 원본 그림 재구성"
   ]
  },
  {
   "cell_type": "code",
   "execution_count": null,
   "id": "e1732652",
   "metadata": {},
   "outputs": [],
   "source": []
  },
  {
   "cell_type": "code",
   "execution_count": null,
   "id": "e35b003e",
   "metadata": {},
   "outputs": [],
   "source": []
  },
  {
   "cell_type": "code",
   "execution_count": null,
   "id": "6cd6cc5f",
   "metadata": {},
   "outputs": [],
   "source": []
  },
  {
   "cell_type": "code",
   "execution_count": null,
   "id": "ab166753",
   "metadata": {},
   "outputs": [],
   "source": []
  }
 ],
 "metadata": {
  "accelerator": "GPU",
  "colab": {
   "gpuType": "T4",
   "provenance": []
  },
  "kernelspec": {
   "display_name": "Python 3 (ipykernel)",
   "language": "python",
   "name": "python3"
  },
  "language_info": {
   "codemirror_mode": {
    "name": "ipython",
    "version": 3
   },
   "file_extension": ".py",
   "mimetype": "text/x-python",
   "name": "python",
   "nbconvert_exporter": "python",
   "pygments_lexer": "ipython3",
   "version": "3.9.7"
  },
  "widgets": {
   "application/vnd.jupyter.widget-state+json": {
    "2afb474cbac341a39bb17f6d0d1a73d9": {
     "model_module": "@jupyter-widgets/base",
     "model_module_version": "1.2.0",
     "model_name": "LayoutModel",
     "state": {
      "_model_module": "@jupyter-widgets/base",
      "_model_module_version": "1.2.0",
      "_model_name": "LayoutModel",
      "_view_count": null,
      "_view_module": "@jupyter-widgets/base",
      "_view_module_version": "1.2.0",
      "_view_name": "LayoutView",
      "align_content": null,
      "align_items": null,
      "align_self": null,
      "border": null,
      "bottom": null,
      "display": null,
      "flex": null,
      "flex_flow": null,
      "grid_area": null,
      "grid_auto_columns": null,
      "grid_auto_flow": null,
      "grid_auto_rows": null,
      "grid_column": null,
      "grid_gap": null,
      "grid_row": null,
      "grid_template_areas": null,
      "grid_template_columns": null,
      "grid_template_rows": null,
      "height": null,
      "justify_content": null,
      "justify_items": null,
      "left": null,
      "margin": null,
      "max_height": null,
      "max_width": null,
      "min_height": null,
      "min_width": null,
      "object_fit": null,
      "object_position": null,
      "order": null,
      "overflow": null,
      "overflow_x": null,
      "overflow_y": null,
      "padding": null,
      "right": null,
      "top": null,
      "visibility": null,
      "width": null
     }
    },
    "691d7ffc8920485186f17949ffe79a3d": {
     "model_module": "@jupyter-widgets/controls",
     "model_module_version": "1.5.0",
     "model_name": "HTMLModel",
     "state": {
      "_dom_classes": [],
      "_model_module": "@jupyter-widgets/controls",
      "_model_module_version": "1.5.0",
      "_model_name": "HTMLModel",
      "_view_count": null,
      "_view_module": "@jupyter-widgets/controls",
      "_view_module_version": "1.5.0",
      "_view_name": "HTMLView",
      "description": "",
      "description_tooltip": null,
      "layout": "IPY_MODEL_e4efc911ba9f47b387e2c1ff983f6449",
      "placeholder": "​",
      "style": "IPY_MODEL_de8de0dd92914941858fba6ea2b2baf5",
      "value": "Dl Completed...: 100%"
     }
    },
    "7c84bf64bba54cd0929e9b9cd82dcd2d": {
     "model_module": "@jupyter-widgets/base",
     "model_module_version": "1.2.0",
     "model_name": "LayoutModel",
     "state": {
      "_model_module": "@jupyter-widgets/base",
      "_model_module_version": "1.2.0",
      "_model_name": "LayoutModel",
      "_view_count": null,
      "_view_module": "@jupyter-widgets/base",
      "_view_module_version": "1.2.0",
      "_view_name": "LayoutView",
      "align_content": null,
      "align_items": null,
      "align_self": null,
      "border": null,
      "bottom": null,
      "display": null,
      "flex": null,
      "flex_flow": null,
      "grid_area": null,
      "grid_auto_columns": null,
      "grid_auto_flow": null,
      "grid_auto_rows": null,
      "grid_column": null,
      "grid_gap": null,
      "grid_row": null,
      "grid_template_areas": null,
      "grid_template_columns": null,
      "grid_template_rows": null,
      "height": null,
      "justify_content": null,
      "justify_items": null,
      "left": null,
      "margin": null,
      "max_height": null,
      "max_width": null,
      "min_height": null,
      "min_width": null,
      "object_fit": null,
      "object_position": null,
      "order": null,
      "overflow": null,
      "overflow_x": null,
      "overflow_y": null,
      "padding": null,
      "right": null,
      "top": null,
      "visibility": null,
      "width": null
     }
    },
    "81199febe54f4df7b0f0b386aa6e519c": {
     "model_module": "@jupyter-widgets/base",
     "model_module_version": "1.2.0",
     "model_name": "LayoutModel",
     "state": {
      "_model_module": "@jupyter-widgets/base",
      "_model_module_version": "1.2.0",
      "_model_name": "LayoutModel",
      "_view_count": null,
      "_view_module": "@jupyter-widgets/base",
      "_view_module_version": "1.2.0",
      "_view_name": "LayoutView",
      "align_content": null,
      "align_items": null,
      "align_self": null,
      "border": null,
      "bottom": null,
      "display": null,
      "flex": null,
      "flex_flow": null,
      "grid_area": null,
      "grid_auto_columns": null,
      "grid_auto_flow": null,
      "grid_auto_rows": null,
      "grid_column": null,
      "grid_gap": null,
      "grid_row": null,
      "grid_template_areas": null,
      "grid_template_columns": null,
      "grid_template_rows": null,
      "height": null,
      "justify_content": null,
      "justify_items": null,
      "left": null,
      "margin": null,
      "max_height": null,
      "max_width": null,
      "min_height": null,
      "min_width": null,
      "object_fit": null,
      "object_position": null,
      "order": null,
      "overflow": null,
      "overflow_x": null,
      "overflow_y": null,
      "padding": null,
      "right": null,
      "top": null,
      "visibility": null,
      "width": null
     }
    },
    "85ac7bf1f884403f930972bcdad4f9e0": {
     "model_module": "@jupyter-widgets/controls",
     "model_module_version": "1.5.0",
     "model_name": "HBoxModel",
     "state": {
      "_dom_classes": [],
      "_model_module": "@jupyter-widgets/controls",
      "_model_module_version": "1.5.0",
      "_model_name": "HBoxModel",
      "_view_count": null,
      "_view_module": "@jupyter-widgets/controls",
      "_view_module_version": "1.5.0",
      "_view_name": "HBoxView",
      "box_style": "",
      "children": [
       "IPY_MODEL_691d7ffc8920485186f17949ffe79a3d",
       "IPY_MODEL_c51d566bbcbe48c88b2beb0821ae9d62",
       "IPY_MODEL_910efe67723547a9980dade03477f70b"
      ],
      "layout": "IPY_MODEL_81199febe54f4df7b0f0b386aa6e519c"
     }
    },
    "910efe67723547a9980dade03477f70b": {
     "model_module": "@jupyter-widgets/controls",
     "model_module_version": "1.5.0",
     "model_name": "HTMLModel",
     "state": {
      "_dom_classes": [],
      "_model_module": "@jupyter-widgets/controls",
      "_model_module_version": "1.5.0",
      "_model_name": "HTMLModel",
      "_view_count": null,
      "_view_module": "@jupyter-widgets/controls",
      "_view_module_version": "1.5.0",
      "_view_name": "HTMLView",
      "description": "",
      "description_tooltip": null,
      "layout": "IPY_MODEL_2afb474cbac341a39bb17f6d0d1a73d9",
      "placeholder": "​",
      "style": "IPY_MODEL_ed162c005cd4412f8bf74bc6257c402b",
      "value": " 5/5 [00:04&lt;00:00,  1.11s/ file]"
     }
    },
    "c51d566bbcbe48c88b2beb0821ae9d62": {
     "model_module": "@jupyter-widgets/controls",
     "model_module_version": "1.5.0",
     "model_name": "FloatProgressModel",
     "state": {
      "_dom_classes": [],
      "_model_module": "@jupyter-widgets/controls",
      "_model_module_version": "1.5.0",
      "_model_name": "FloatProgressModel",
      "_view_count": null,
      "_view_module": "@jupyter-widgets/controls",
      "_view_module_version": "1.5.0",
      "_view_name": "ProgressView",
      "bar_style": "success",
      "description": "",
      "description_tooltip": null,
      "layout": "IPY_MODEL_7c84bf64bba54cd0929e9b9cd82dcd2d",
      "max": 5,
      "min": 0,
      "orientation": "horizontal",
      "style": "IPY_MODEL_d8b71a1eadcf4ad48e6099c7840c8376",
      "value": 5
     }
    },
    "d8b71a1eadcf4ad48e6099c7840c8376": {
     "model_module": "@jupyter-widgets/controls",
     "model_module_version": "1.5.0",
     "model_name": "ProgressStyleModel",
     "state": {
      "_model_module": "@jupyter-widgets/controls",
      "_model_module_version": "1.5.0",
      "_model_name": "ProgressStyleModel",
      "_view_count": null,
      "_view_module": "@jupyter-widgets/base",
      "_view_module_version": "1.2.0",
      "_view_name": "StyleView",
      "bar_color": null,
      "description_width": ""
     }
    },
    "de8de0dd92914941858fba6ea2b2baf5": {
     "model_module": "@jupyter-widgets/controls",
     "model_module_version": "1.5.0",
     "model_name": "DescriptionStyleModel",
     "state": {
      "_model_module": "@jupyter-widgets/controls",
      "_model_module_version": "1.5.0",
      "_model_name": "DescriptionStyleModel",
      "_view_count": null,
      "_view_module": "@jupyter-widgets/base",
      "_view_module_version": "1.2.0",
      "_view_name": "StyleView",
      "description_width": ""
     }
    },
    "e4efc911ba9f47b387e2c1ff983f6449": {
     "model_module": "@jupyter-widgets/base",
     "model_module_version": "1.2.0",
     "model_name": "LayoutModel",
     "state": {
      "_model_module": "@jupyter-widgets/base",
      "_model_module_version": "1.2.0",
      "_model_name": "LayoutModel",
      "_view_count": null,
      "_view_module": "@jupyter-widgets/base",
      "_view_module_version": "1.2.0",
      "_view_name": "LayoutView",
      "align_content": null,
      "align_items": null,
      "align_self": null,
      "border": null,
      "bottom": null,
      "display": null,
      "flex": null,
      "flex_flow": null,
      "grid_area": null,
      "grid_auto_columns": null,
      "grid_auto_flow": null,
      "grid_auto_rows": null,
      "grid_column": null,
      "grid_gap": null,
      "grid_row": null,
      "grid_template_areas": null,
      "grid_template_columns": null,
      "grid_template_rows": null,
      "height": null,
      "justify_content": null,
      "justify_items": null,
      "left": null,
      "margin": null,
      "max_height": null,
      "max_width": null,
      "min_height": null,
      "min_width": null,
      "object_fit": null,
      "object_position": null,
      "order": null,
      "overflow": null,
      "overflow_x": null,
      "overflow_y": null,
      "padding": null,
      "right": null,
      "top": null,
      "visibility": null,
      "width": null
     }
    },
    "ed162c005cd4412f8bf74bc6257c402b": {
     "model_module": "@jupyter-widgets/controls",
     "model_module_version": "1.5.0",
     "model_name": "DescriptionStyleModel",
     "state": {
      "_model_module": "@jupyter-widgets/controls",
      "_model_module_version": "1.5.0",
      "_model_name": "DescriptionStyleModel",
      "_view_count": null,
      "_view_module": "@jupyter-widgets/base",
      "_view_module_version": "1.2.0",
      "_view_name": "StyleView",
      "description_width": ""
     }
    }
   }
  }
 },
 "nbformat": 4,
 "nbformat_minor": 5
}
