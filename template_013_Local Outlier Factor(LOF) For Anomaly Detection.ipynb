{
 "cells": [
  {
   "cell_type": "markdown",
   "id": "30baa22f",
   "metadata": {},
   "source": [
    "# Local Outlier Factor (LOF) \n",
    "\n",
    "`LOF(Local Outlier Factor)` 알고리즘은 이웃과 관련하여 주어진 데이터 포인트의 로컬 밀도 편차를 계산하는 비지도 학습 이상 탐지 방법입니다. \n",
    "\n",
    "- 각 데이터 포인트의 로컬 밀도를 인접 데이터 포인트와 비교하고 밀도가 낮은 데이터 포인트를 비정상 또는 특이값으로 식별합니다.\n",
    "\n",
    "다음을 학습 합니다.\n",
    "\n",
    "- 특이치 검출(novelty detection)과 outlier detection의 차이점  \n",
    "- 특이치 검출(novelty detection)을 위해 LOF(Local Outlier Factor)를 사용하는 방법\n",
    "- 비정상(anomaly) 또는 이상치(outlier) 탐지를 위해 LOF(Local Outlier Factor)를 사용하는 방법"
   ]
  },
  {
   "cell_type": "code",
   "execution_count": null,
   "id": "043cc0bb",
   "metadata": {},
   "outputs": [],
   "source": []
  },
  {
   "cell_type": "markdown",
   "id": "e03f7415",
   "metadata": {},
   "source": [
    "### 불균형 데이터세트 만들기 \n",
    "- 서로 다른 mechanism 으로 생성된 두가지 data 를 하나로 섞어서 생성"
   ]
  },
  {
   "cell_type": "code",
   "execution_count": null,
   "id": "38403830",
   "metadata": {},
   "outputs": [],
   "source": [
    "# 정상 데이터(inlier) 생성\n",
    "# 평균 0, 표준편차 0.3인 정규분포를 따르는 2000개의 2차원 데이터 생성\n",
    "# 이상치 데이터(outlier) 생성\n",
    "# 범위 -4에서 0 사이의 균등분포를 따르는 200개의 2차원 데이터 생성\n",
    "# inlier와 outlier 데이터를 하나의 배열로 결합\n",
    "# 이상치(outlier)의 개수\n",
    "# 정상 데이터는 0, 이상치는 1로 레이블을 부여\n",
    "# 전체 데이터에서 이상치가 차지하는 비율을 출력"
   ]
  },
  {
   "cell_type": "markdown",
   "id": "f1f53043",
   "metadata": {},
   "source": [
    "- data 시각화"
   ]
  },
  {
   "cell_type": "code",
   "execution_count": null,
   "id": "7aac2cae",
   "metadata": {},
   "outputs": [],
   "source": [
    "# Inliers (정상 데이터) 플롯\n",
    "# X_inliers의 첫 번째 열과 두 번째 열 데이터를 사용하여 산점도를 그립니다.\n",
    "# Outliers (이상치 데이터) 플롯\n",
    "# X_outliers의 첫 번째 열과 두 번째 열 데이터를 사용하여 산점도를 그립니다.\n",
    "# 범례를 추가하여 각 데이터의 레이블을 표시합니다."
   ]
  },
  {
   "cell_type": "code",
   "execution_count": null,
   "id": "9efeda24",
   "metadata": {},
   "outputs": [],
   "source": [
    "# Train test split"
   ]
  },
  {
   "cell_type": "markdown",
   "id": "20e2af71",
   "metadata": {},
   "source": [
    "## Outlier/anomaly Detection Vs. Novelty Detection\n",
    "\n",
    "- LOF(Local Outlier Factor) 알고리즘은 이상치 검출(outlier/anomaly detection) 및 특이치 검출(Novelty Detection)에 모두 사용할 수 있습니다. Outlier / Anomaly Detection 및 Novelty Detection의 차이점은 훈련 데이터 세트에 있습니다.  \n",
    "\n",
    "    - Outlier/anomaly detection에는 훈련 데이터 세트의 이상치가 포함됩니다. 이 알고리즘은 고밀도 데이터가 있는 영역에 적합하고 outlier 및 anomaly를 무시합니다.\n",
    "\n",
    "    - Novelty Detection에는 모델을 훈련할 때 normal data point 만 포함됩니다. 그런 다음 모델은 예측을 위해 Outlier/Anomaly가 포함되어 있는 새 데이터 세트를 사용합니다. Novelty Detection의 이상값을 novelty (특이치) 라고도 합니다.\n",
    "    \n",
    "\n",
    "- outlier label 이 있는 데이터 세트가 있는 경우 두가지 모두에 사용할 수 있습니다. 그렇지 않으면 정상 데이터만으로 이루어진 훈련 데이터 세트를 얻을 수 없기 때문에 outlier detection 만 사용할 수 있습니다.\n",
    "\n",
    "\n",
    "- 고려되는 neighbor 수 (파라미터 n_neighbors)를 몇개로 하는지 정해진 것은 없으며 n_neighbors = 20을 사용하면 일반적으로 잘 작동하는 것으로 보입니다."
   ]
  },
  {
   "cell_type": "markdown",
   "id": "441f56d2",
   "metadata": {},
   "source": [
    "### 1. Local Outlier Factor (LOF) 를 사용한 특이치 검출 (Novelty Detection)\n",
    "\n",
    "- Novelty Detection을 사용하려면 LOF 의 novelty 파라미터를 True로 설정해야 합니다. \n",
    "```\n",
    "LocalOutlierFactor(n_neighbors=20, novelty=True)\n",
    "```\n",
    "- normal data로만 구성된 train set으로 모델을 fitting 하고 outlier를 포함하는 test dataset을 predict 합니다."
   ]
  },
  {
   "cell_type": "code",
   "execution_count": null,
   "id": "92d37f5d",
   "metadata": {},
   "outputs": [],
   "source": [
    "# 훈련 데이터 세트에서 normal (정상) 데이터만 유지\n",
    "# y_train이 0인 인덱스를 찾아 해당 인덱스의 X_train 데이터를 선택합니다.\n",
    "# 정상 데이터만으로 Local Outlier Factor (LOF) 모델을 생성 및 학습\n",
    "# n_neighbors=20: 각 포인트의 이웃을 20개로 설정\n",
    "# novelty=True: 새 데이터의 이상치 여부를 예측하기 위해 사용\n",
    "# 정상 데이터만 사용하여 LOF 모델을 학습시킵니다."
   ]
  },
  {
   "cell_type": "code",
   "execution_count": null,
   "id": "bd21e935",
   "metadata": {},
   "outputs": [],
   "source": [
    "# test dataset 에서 novelty 예측"
   ]
  },
  {
   "cell_type": "code",
   "execution_count": null,
   "id": "ac67dffe",
   "metadata": {},
   "outputs": [],
   "source": [
    "# prediction_novelty 리스트에서 각 요소를 확인하고, -1이면 1로, 그렇지 않으면 0으로 변경합니다.\n",
    "# -1은 이상치를 나타내고, 0은 정상 데이터를 나타냅니다. \n",
    "# 이를 0과 1로 변환하여 이상치 예측 결과를 보다 직관적으로 해석할 수 있도록 합니다.\n",
    "# prediction_novelty 리스트의 처음 10개 요소를 출력합니다."
   ]
  },
  {
   "cell_type": "code",
   "execution_count": null,
   "id": "abbf9461",
   "metadata": {},
   "outputs": [],
   "source": [
    "# model 성능 측정"
   ]
  },
  {
   "cell_type": "markdown",
   "id": "c82897c2",
   "metadata": {},
   "source": [
    "### 2. LOF(Local Outlier Factor)를 사용한 이상치 감지 (outlier detection) \n",
    "- 위와 동일한 데이터 세트에서 outlier detection을 훈련하고 예측하기 위한 LOF(Local Outlier Factor).   \n",
    "- normal 과 outlier 가 섞여 있는 dataset 으로 fit_predict 해야 합니다.\n",
    "- Outlier Detection algorithm을 활성화하려면 novelty=`False`로 설정해야 합니다. \n",
    "```\n",
    "LocalOutlierFactor(n_neighbors=5, novelty=False)  \n",
    "```\n",
    "- X_test 로 측정한 모델간 비교를 위해 X_test 사용"
   ]
  },
  {
   "cell_type": "code",
   "execution_count": null,
   "id": "1e7905e0",
   "metadata": {},
   "outputs": [],
   "source": [
    "# 이상치 감지를 위한 LOF(Local Outlier Factor) 모델 생성\n",
    "# n_neighbors=20: 각 포인트의 이웃을 20개로 설정\n",
    "# novelty=False: 기존 데이터에서 이상치를 감지하기 위해 사용\n",
    "# 정상 데이터와 이상치 데이터가 섞인 테스트 데이터를 사용하여 예측\n",
    "# fit_predict 메서드는 모델을 학습시키고 이상치 여부를 예측합니다.\n",
    "# -1은 이상치(outlier)를, 1은 정상 데이터(inlier)를 나타냅니다.\n",
    "# 예측 결과의 처음 100개 요소를 출력합니다."
   ]
  },
  {
   "cell_type": "code",
   "execution_count": null,
   "id": "7685514d",
   "metadata": {},
   "outputs": [],
   "source": [
    "# -1 을 0으로, 1을 0으로 변경\n",
    "# model 성능 측정"
   ]
  },
  {
   "cell_type": "markdown",
   "id": "3f6744c5",
   "metadata": {},
   "source": [
    "- 시각화를 통한 특이치 검축 / 이상치 검출 결과 비교"
   ]
  },
  {
   "cell_type": "code",
   "execution_count": null,
   "id": "2708713f",
   "metadata": {},
   "outputs": [],
   "source": [
    "# 시각화를 위해 X_test, y_test를 DataFrame으로 변환"
   ]
  },
  {
   "cell_type": "code",
   "execution_count": null,
   "id": "6012ad45",
   "metadata": {},
   "outputs": [],
   "source": [
    "# 원본 데이터 (정상 + 이상치)\n",
    "# 산점도 그리기 (정상 데이터는 0, 이상치는 1)\n",
    "# LOF 특이치 검출 결과\n",
    "# 산점도 그리기 (예측된 특이치)\n",
    "# LOF 이상치 검출 결과\n",
    "# 산점도 그리기 (예측된 이상치)\n",
    "# 범례 항목 생성\n",
    "# 각 축에 범례 추가"
   ]
  },
  {
   "cell_type": "markdown",
   "id": "d0e07b9b",
   "metadata": {},
   "source": [
    "- Novelty Detection model 에서는 minoriy observation 들을 특이치로 분류  \n",
    "- Anomaly Detection model 에서는 저밀도 영역을 정상으로 분류하고 밀도가 다른 영역을 이상치로 분류"
   ]
  },
  {
   "cell_type": "code",
   "execution_count": null,
   "id": "4a1d5ebf",
   "metadata": {},
   "outputs": [],
   "source": []
  }
 ],
 "metadata": {
  "kernelspec": {
   "display_name": "Python 3 (ipykernel)",
   "language": "python",
   "name": "python3"
  },
  "language_info": {
   "codemirror_mode": {
    "name": "ipython",
    "version": 3
   },
   "file_extension": ".py",
   "mimetype": "text/x-python",
   "name": "python",
   "nbconvert_exporter": "python",
   "pygments_lexer": "ipython3",
   "version": "3.9.16"
  }
 },
 "nbformat": 4,
 "nbformat_minor": 5
}
