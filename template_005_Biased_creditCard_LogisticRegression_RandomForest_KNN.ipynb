{
 "cells": [
  {
   "cell_type": "markdown",
   "id": "bcf99f1e",
   "metadata": {},
   "source": [
    "#  신용 카드 이상 거래 탐지 - 전통적 ML 지도학습\n",
    "\n",
    "## Logistic Regression, Random Forest, KNN + Over/Under-sampling\n",
    "\n",
    "- 극도로 편향된 신용카드 사기 거래 data 분류 - 지도학습 모델  \n",
    "\n",
    "- Highly Imbalanced Dataset - 284,807 거래 건 중 492 개의 사기거래 존재\n",
    "\n",
    "\n",
    "- [Credit Card Fraud Detection](https://www.kaggle.com/mlg-ulb/creditcardfraud) - Kaggle\n",
    "\n",
    "\n",
    "- Highly Imbalanced Dataset - dataset는 2013 년 9 월 유럽 카드 소지자 신용 카드 거래로 만들었습니다. 이 dataset는 2 일 동안 발생한 거래를 보여 주며, 284,807 건의 거래 중 492 건의 fraud가 있습니다. 데이터세트는 매우 불균형하며 포지티브 클래스(사기)는 모든 거래의 0.172 %를 차지합니다.\n",
    "\n",
    "\n",
    "- 이 dataset는 PCA 변환의 결과인 숫자 입력 변수만 포함합니다. 기밀 유지 문제로 인해 데이터에 대한 원래 feature와 추가 background 정보는 제공되지 않습니다. 특성 V1, V2, ... V28은 PCA로 얻은 principal component이며 PCA로 변환되지 않은 유일한 특성은 'Time' 과 'Amount' 입니다. 'Time' 특성은 각 트랜잭션과 데이터 세트의 첫 번째 트랜잭션 사이에 경과된 시간(초) 입니다. 'Amount' 특성은 거래금액 입니다.  'Class'는 사기의 경우 1, 그렇지 않으면 0 입니다.\n",
    "\n",
    "\n",
    "- 클래스 불균형 비율이 주어지면 Area Under the Precision-Recall Curve (AUPRC)을 사용하여 정확도를 측정하는 것이 좋습니다. 불균형 data 분류에는 confusion matrix 정확도가 의미가 없습니다."
   ]
  },
  {
   "cell_type": "code",
   "execution_count": null,
   "id": "bd436ae7",
   "metadata": {},
   "outputs": [],
   "source": []
  },
  {
   "cell_type": "markdown",
   "id": "8299608e",
   "metadata": {},
   "source": [
    "### Kaggle Credit Card Fraud dataset 다운로드"
   ]
  },
  {
   "cell_type": "code",
   "execution_count": null,
   "id": "e96ada9e",
   "metadata": {},
   "outputs": [],
   "source": []
  },
  {
   "cell_type": "code",
   "execution_count": null,
   "id": "076d8995",
   "metadata": {},
   "outputs": [],
   "source": []
  },
  {
   "cell_type": "code",
   "execution_count": null,
   "id": "bddfd717",
   "metadata": {},
   "outputs": [],
   "source": []
  },
  {
   "cell_type": "markdown",
   "id": "0f4a92c9",
   "metadata": {},
   "source": [
    "## Data 전처리 \n",
    "\n",
    "- 2 일 동안의 data가 00:00:00 부터 발생했으므로 Time을 일중 시간으로 변경 : time / 3600 초 % 24 시간  \n",
    "- Amount column 은 편차가 크므로 log-scale 로 변환"
   ]
  },
  {
   "cell_type": "code",
   "execution_count": null,
   "id": "1d0baa35",
   "metadata": {},
   "outputs": [],
   "source": [
    "# Time 을 일중 시간으로 변환\n",
    "# Amount column 은 편차가 크므로 log-scale 로 변환"
   ]
  },
  {
   "cell_type": "code",
   "execution_count": null,
   "id": "0c0014c9",
   "metadata": {},
   "outputs": [],
   "source": [
    "# 첫 번째 서브플롯 (ax1)에 df 데이터프레임의 'Amount' 열의 히스토그램을 그립니다.\n",
    "# 두 번째 서브플롯 (ax2)에 cleaned_df 데이터프레임의 'Amount' 열의 히스토그램을 그립니다.\n",
    "# 서브플롯들 간의 레이아웃을 조정하여 겹치지 않도록 합니다."
   ]
  },
  {
   "cell_type": "code",
   "execution_count": null,
   "id": "f75c9fc4",
   "metadata": {},
   "outputs": [],
   "source": [
    "# cleaned_df 데이터프레임에서 'Class' 열을 추출하여 NumPy 배열로 변환합니다.\n",
    "# 'Class' 열은 레이블로 사용됩니다."
   ]
  },
  {
   "cell_type": "code",
   "execution_count": null,
   "id": "00be0c32",
   "metadata": {},
   "outputs": [],
   "source": [
    "# cleaned_df 데이터프레임의 값을 NumPy 배열로 변환하여 features에 저장합니다.\n",
    "# 'Class' 열이 제거된 데이터프레임의 값만 포함됩니다.\n",
    "# features 배열의 형태(shape)를 출력합니다."
   ]
  },
  {
   "cell_type": "code",
   "execution_count": null,
   "id": "b028a9db",
   "metadata": {},
   "outputs": [],
   "source": []
  },
  {
   "cell_type": "markdown",
   "id": "dacef5fc",
   "metadata": {},
   "source": [
    "### Dataset 을 Training 과 Test set 으로 분리"
   ]
  },
  {
   "cell_type": "code",
   "execution_count": null,
   "id": "9d18e5fc",
   "metadata": {},
   "outputs": [],
   "source": []
  },
  {
   "cell_type": "code",
   "execution_count": null,
   "id": "37f4198f",
   "metadata": {},
   "outputs": [],
   "source": []
  },
  {
   "cell_type": "markdown",
   "id": "a672e7c3",
   "metadata": {},
   "source": [
    "### Feature Scaling"
   ]
  },
  {
   "cell_type": "code",
   "execution_count": null,
   "id": "4ff02b46",
   "metadata": {},
   "outputs": [],
   "source": []
  },
  {
   "cell_type": "markdown",
   "id": "b12526dc",
   "metadata": {},
   "source": [
    "## 1-1. Logistic Regression model 학습"
   ]
  },
  {
   "cell_type": "code",
   "execution_count": null,
   "id": "12d8efa2",
   "metadata": {},
   "outputs": [],
   "source": []
  },
  {
   "cell_type": "markdown",
   "id": "fc28f051",
   "metadata": {},
   "source": [
    "### 훈련된 모델을 이용하여 Test set 예측\n",
    "- predict_proba() - class 의 probability 반환 ([negative 확률, positive 확률])"
   ]
  },
  {
   "cell_type": "code",
   "execution_count": null,
   "id": "c8c9f5c8",
   "metadata": {},
   "outputs": [],
   "source": [
    "# y_pred_prob에는 각 샘플이 클래스 1에 속할 확률이 저장됩니다.\n",
    "# 각 샘플에 대해 클래스 1에 속할 확률만을 선택합니다."
   ]
  },
  {
   "cell_type": "code",
   "execution_count": null,
   "id": "15100370",
   "metadata": {},
   "outputs": [],
   "source": []
  },
  {
   "cell_type": "markdown",
   "id": "d4508203",
   "metadata": {},
   "source": [
    "## confusion matrix 를 이용한 model 성능 평가"
   ]
  },
  {
   "cell_type": "code",
   "execution_count": null,
   "id": "abd00f10",
   "metadata": {},
   "outputs": [],
   "source": [
    "def plot_cm(y_test, y_pred_proba, threshold):\n",
    "    # 주어진 임계값(threshold)을 기준으로 예측 확률을 이진 예측값으로 변환합니다.\n",
    "    # 혼동 행렬을 시각화합니다."
   ]
  },
  {
   "cell_type": "code",
   "execution_count": null,
   "id": "e4806df1",
   "metadata": {},
   "outputs": [],
   "source": []
  },
  {
   "cell_type": "markdown",
   "id": "4787e6dc",
   "metadata": {},
   "source": [
    "### Fraud 거래를 잡아내는 것이 목적이므로, fraud case 를 놓치지 않으려면 recall 을 높인다.\n",
    "\n",
    "이를 위해 threshold 를 0.2 로 조정."
   ]
  },
  {
   "cell_type": "code",
   "execution_count": null,
   "id": "38517304",
   "metadata": {},
   "outputs": [],
   "source": []
  },
  {
   "cell_type": "markdown",
   "id": "69fa9682",
   "metadata": {},
   "source": [
    "## 불균형 데이터에 대한 Resampling 기법 적용\n",
    "     \n",
    "- minority class를 oversample 하고 majority class를 undersample  \n",
    "- minority data 의 수(비율)를 증가시켜 새로이 fitting  "
   ]
  },
  {
   "cell_type": "code",
   "execution_count": null,
   "id": "b34107a4",
   "metadata": {},
   "outputs": [],
   "source": []
  },
  {
   "cell_type": "markdown",
   "id": "7a6147fe",
   "metadata": {},
   "source": [
    "- 소수 class 비율이 10%가 되도록 소수 class를 oversample  \n",
    "- `sampling_strategy` parameter는 리샘플링 후 다수 클래스에 대한 소수 클래스의  비율"
   ]
  },
  {
   "cell_type": "code",
   "execution_count": null,
   "id": "b1981f43",
   "metadata": {},
   "outputs": [],
   "source": [
    "# 소수 클래스 샘플 수를 다수 클래스 샘플 수의 10%로 설정합니다.\n",
    "# 학습 데이터(X_train, y_train)를 오버샘플링합니다.\n",
    "# 오버샘플링된 y 데이터의 클래스 분포를 출력합니다."
   ]
  },
  {
   "cell_type": "markdown",
   "id": "26475afe",
   "metadata": {},
   "source": [
    "- 소수 class 비율이 50%가 되도록 다수 class를 undersample"
   ]
  },
  {
   "cell_type": "code",
   "execution_count": null,
   "id": "0a511d7e",
   "metadata": {},
   "outputs": [],
   "source": [
    "# 소수 클래스 샘플 수를 다수 클래스 샘플 수의 50%로 설정합니다.\n",
    "# 데이터(X, y)를 언더샘플링합니다.\n",
    "# 언더샘플링된 y 데이터의 클래스 분포를 출력합니다."
   ]
  },
  {
   "cell_type": "markdown",
   "id": "1c44a80b",
   "metadata": {},
   "source": [
    "- Data 시각화 "
   ]
  },
  {
   "cell_type": "code",
   "execution_count": null,
   "id": "fab1049e",
   "metadata": {},
   "outputs": [],
   "source": []
  },
  {
   "cell_type": "markdown",
   "id": "212012dd",
   "metadata": {},
   "source": [
    "## 1-2.  Logistic Regression model 재학습"
   ]
  },
  {
   "cell_type": "code",
   "execution_count": null,
   "id": "c3576196",
   "metadata": {},
   "outputs": [],
   "source": [
    "# max_iter=1000은 최대 반복 횟수를 1000으로 설정하여 모델이 수렴할 때까지 충분히 학습할 수 있도록 합니다."
   ]
  },
  {
   "cell_type": "markdown",
   "id": "bc157c91",
   "metadata": {},
   "source": [
    "- 학습된 모델을 이용하여 Test set 예측"
   ]
  },
  {
   "cell_type": "code",
   "execution_count": null,
   "id": "d62fb3db",
   "metadata": {},
   "outputs": [],
   "source": [
    "# 각 샘플에 대해 클래스 1에 속할 확률만을 선택합니다."
   ]
  },
  {
   "cell_type": "code",
   "execution_count": null,
   "id": "20253fee",
   "metadata": {},
   "outputs": [],
   "source": []
  },
  {
   "cell_type": "code",
   "execution_count": null,
   "id": "b9a2614b",
   "metadata": {},
   "outputs": [],
   "source": []
  },
  {
   "cell_type": "markdown",
   "id": "b328271d",
   "metadata": {},
   "source": [
    "oversample + undersample 기법 적용 결과 precision(positive로 예측한 내용 중에, 실제 Positive의 비율)은 크게 낮아지고,  recall(전체 positive 데이타 중에서 positive로 분류한 비율)이 높아짐."
   ]
  },
  {
   "cell_type": "markdown",
   "id": "f5bed40b",
   "metadata": {},
   "source": [
    "## 2. RandomForest model을 이용한 분류\n",
    "\n",
    "oversample + undersample 한 data 를  random forest model을 이용하여 분류"
   ]
  },
  {
   "cell_type": "code",
   "execution_count": null,
   "id": "930051db",
   "metadata": {},
   "outputs": [],
   "source": [
    "# n_estimators=1000: 1000개의 의사결정 트리를 사용합니다.\n",
    "# max_depth=12: 각 트리의 최대 깊이를 12로 설정합니다.\n",
    "# min_samples_leaf=50: 각 리프 노드(leaf node)에 필요한 최소 샘플 수를 50으로 설정합니다.\n",
    "# min_samples_split=6: 내부 노드를 분할하는 데 필요한 최소 샘플 수를 6으로 설정합니다.\n",
    "# n_jobs=-1: 가능한 모든 프로세서를 사용하여 병렬로 작업을 수행합니다.\n",
    "# verbose=1: 학습 과정의 진행 상황을 출력합니다."
   ]
  },
  {
   "cell_type": "code",
   "execution_count": null,
   "id": "f6e8c5f1",
   "metadata": {},
   "outputs": [],
   "source": []
  },
  {
   "cell_type": "code",
   "execution_count": null,
   "id": "788490b3",
   "metadata": {},
   "outputs": [],
   "source": []
  },
  {
   "cell_type": "markdown",
   "id": "d0d2f781",
   "metadata": {},
   "source": [
    "## 3. K-Nearest Neighbors model을 이용한 분류\n",
    "\n",
    "oversample + undersample 한 data를  K-Nearest Neighbors model을 이용하여 분류"
   ]
  },
  {
   "cell_type": "code",
   "execution_count": null,
   "id": "f3597327",
   "metadata": {},
   "outputs": [],
   "source": []
  },
  {
   "cell_type": "code",
   "execution_count": null,
   "id": "a5c8deb0",
   "metadata": {},
   "outputs": [],
   "source": []
  },
  {
   "cell_type": "code",
   "execution_count": null,
   "id": "cab8e8af",
   "metadata": {},
   "outputs": [],
   "source": []
  },
  {
   "cell_type": "markdown",
   "id": "d5c96332",
   "metadata": {},
   "source": [
    "## ROC(Receiver Operating Characteristic) curve 시각화로 모델 성능 비교\n",
    "``` fpr, tpr, _ = roc_curve(y_true, y_score) ```\n",
    "- fpr - false positive rates,  tpr - true positive rates"
   ]
  },
  {
   "cell_type": "code",
   "execution_count": null,
   "id": "24027afa",
   "metadata": {},
   "outputs": [],
   "source": [
    "def plot_roc(name, labels, predictions, **kwargs):\n",
    "    # ROC 곡선을 그리기 위한 FPR(위양성률)과 TPR(진양성률)을 계산합니다.\n",
    "    # AUC(Area Under the Curve) 값을 계산합니다.\n",
    "    # ROC 곡선을 그립니다. FPR을 x축, TPR을 y축으로 설정합니다.\n",
    "    # label은 모델 이름과 AUC 값을 포함하며, linewidth는 선의 두께를 설정합니다.\n",
    "    # x축의 범위를 설정합니다.\n",
    "    # y축의 범위를 설정합니다.\n",
    "    # 현재 그래프의 Figure 객체를 가져옵니다.\n",
    "    # 범례를 오른쪽 아래에 추가합니다."
   ]
  },
  {
   "cell_type": "code",
   "execution_count": null,
   "id": "a127c4a8",
   "metadata": {},
   "outputs": [],
   "source": [
    "# Logistic Regression 모델의 테스트 데이터에 대한 예측 확률 (양성 클래스) 계산\n",
    "# ROC 곡선 그리기 - Logistic Regression 모델\n",
    "# 오버샘플링 및 언더샘플링을 적용한 Logistic Regression 모델의 테스트 데이터 예측 확률 계산\n",
    "# ROC 곡선 그리기 - 오버샘플링 및 언더샘플링을 적용한 Logistic Regression 모델\n",
    "# 오버샘플링 및 언더샘플링을 적용한 Random Forest 모델의 테스트 데이터 예측 확률 계산\n",
    "# ROC 곡선 그리기 - 오버샘플링 및 언더샘플링을 적용한 Random Forest 모델\n",
    "# 오버샘플링 및 언더샘플링을 적용한 K-Nearest Neighbors 모델의 테스트 데이터 예측 확률 계산\n",
    "# ROC 곡선 그리기 - 오버샘플링 및 언더샘플링을 적용한 K-Nearest Neighbors 모델"
   ]
  },
  {
   "cell_type": "markdown",
   "id": "7ab54979",
   "metadata": {},
   "source": [
    "## IE (Integrated Error)\n",
    "\n",
    "- FRR : False Rejection Rate  \n",
    "\n",
    "- FAR : False Acceptance Rate\n",
    "\n",
    "FRR = FNR = FN/(FN + TN)  \n",
    "FAR = FPR = FP/(FP + FN)  "
   ]
  },
  {
   "cell_type": "code",
   "execution_count": null,
   "id": "2694340c",
   "metadata": {},
   "outputs": [],
   "source": [
    "# 그래프 크기 설정\n",
    "# Logistic Regression 모델의 테스트 데이터에 대한 예측 확률 계산\n",
    "# FPR (False Positive Rate), TPR (True Positive Rate) 계산\n",
    "# FNR (False Negative Rate) 계산\n",
    "# FNR-FPR 그래프 그리기 - Logistic Regression 모델\n",
    "# 오버샘플링 및 언더샘플링을 적용한 Logistic Regression 모델의 예측 확률 계산\n",
    "# FPR, TPR 및 FNR 계산\n",
    "# FNR-FPR 그래프 그리기 - 오버샘플링 및 언더샘플링을 적용한 Logistic Regression 모델\n",
    "# 오버샘플링 및 언더샘플링을 적용한 Random Forest 모델의 예측 확률 계산\n",
    "# FPR, TPR 및 FNR 계산\n",
    "# FNR-FPR 그래프 그리기 - 오버샘플링 및 언더샘플링을 적용한 Random Forest 모델\n",
    "# 오버샘플링 및 언더샘플링을 적용한 K-Nearest Neighbors 모델의 예측 확률 계산\n",
    "# FPR, TPR 및 FNR 계산\n",
    "# FNR-FPR 그래프 그리기 - 오버샘플링 및 언더샘플링을 적용한 K-Nearest Neighbors 모델\n",
    "# 그래프 제목 및 축 레이블 설정\n",
    "# x축 및 y축 범위 설정\n",
    "# 범례 추가"
   ]
  },
  {
   "cell_type": "markdown",
   "id": "2901875d",
   "metadata": {},
   "source": [
    "### 실습 문제\n",
    "Oversampling 비율 변경 - 위 문제에서 RandomOverSampler의 sampling_strategy 값을 0.1 → 0.5로 수정해 보세요.\n",
    "\n",
    "    - LogisticRegression 모델을 다시 학습하고 테스트 데이터를 예측해보세요.  \n",
    "    - Precision, Recall 값은 변화 확인  \n",
    "    - 그래프(ROC Curve, Confusion Matrix)를 통해 성능 차이를 시각적으로 확인\n",
    "<br>  \n",
    "0.2, 0.3, 0.7 등 다양한 threshold를 설정하고 Confusion Matrix 및 Precision/Recall을 확인해 보세요."
   ]
  },
  {
   "cell_type": "code",
   "execution_count": null,
   "id": "c2cfa6b2",
   "metadata": {},
   "outputs": [],
   "source": []
  }
 ],
 "metadata": {
  "kernelspec": {
   "display_name": "Python 3 (ipykernel)",
   "language": "python",
   "name": "python3"
  },
  "language_info": {
   "codemirror_mode": {
    "name": "ipython",
    "version": 3
   },
   "file_extension": ".py",
   "mimetype": "text/x-python",
   "name": "python",
   "nbconvert_exporter": "python",
   "pygments_lexer": "ipython3",
   "version": "3.9.16"
  }
 },
 "nbformat": 4,
 "nbformat_minor": 5
}
