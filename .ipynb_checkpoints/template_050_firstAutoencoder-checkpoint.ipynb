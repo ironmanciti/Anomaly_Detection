{
 "cells": [
  {
   "cell_type": "markdown",
   "id": "systematic-blackjack",
   "metadata": {},
   "source": [
    "# First Autoencoder  "
   ]
  },
  {
   "cell_type": "code",
   "execution_count": null,
   "id": "421477d3",
   "metadata": {},
   "outputs": [],
   "source": []
  },
  {
   "cell_type": "markdown",
   "id": "interracial-resolution",
   "metadata": {},
   "source": [
    "## Data 생성\n",
    "- 3 차원 data 생성"
   ]
  },
  {
   "cell_type": "code",
   "execution_count": null,
   "id": "5d16edff",
   "metadata": {},
   "outputs": [],
   "source": [
    "# 데이터 포인트 수 설정\n",
    "# 임의의 각도를 생성합니다. 각도는 -0.5에서 3π/2 - 0.5 사이의 값을 가집니다.\n",
    "# 데이터를 저장할 빈 배열을 생성합니다. 배열의 크기는 (100, 3)입니다.\n",
    "# 첫 번째 열: 각도에 대한 코사인 값과 사인 값의 조합에 작은 노이즈를 추가한 값으로 설정합니다.\n",
    "# 두 번째 열: 각도에 대한 사인 값에 작은 노이즈를 추가한 값으로 설정합니다.\n",
    "# 세 번째 열: 첫 번째 열과 두 번째 열의 선형 조합에 작은 노이즈를 추가한 값으로 설정합니다.\n",
    "# 데이터 배열의 형태를 출력합니다."
   ]
  },
  {
   "cell_type": "markdown",
   "id": "db4f6f1f",
   "metadata": {},
   "source": [
    "- 3차원 data 시각화"
   ]
  },
  {
   "cell_type": "code",
   "execution_count": null,
   "id": "9b2fa103",
   "metadata": {},
   "outputs": [],
   "source": [
    "# 데이터를 X_train 변수에 저장합니다.\n",
    "# 3D 플롯을 생성합니다.\n",
    "# 3D 산점도를 그립니다.\n",
    "# X_train의 첫 번째 열을 x축, 두 번째 열을 y축, 세 번째 열을 z축으로 설정합니다.\n",
    "# 데이터 포인트의 색상은 X_train의 첫 번째 열의 값에 따라 지정하고, 'Reds' 컬러맵을 사용합니다."
   ]
  },
  {
   "cell_type": "markdown",
   "id": "international-complexity",
   "metadata": {},
   "source": [
    "## Autoencoder model 작성\n",
    "\n",
    "- 3 차원 data 를 2 차원으로 차원 축소"
   ]
  },
  {
   "cell_type": "code",
   "execution_count": null,
   "id": "b7cf235d",
   "metadata": {},
   "outputs": [],
   "source": [
    "# 인코더(Encoder) 모델을 생성합니다.\n",
    "# 입력층의 형태는 (3,)으로 설정하며, 은닉층의 출력 노드 수는 2로 설정합니다.\n",
    "# 디코더(Decoder) 모델을 생성합니다.\n",
    "# 입력층의 형태는 (2,)으로 설정하며, 은닉층의 출력 노드 수는 3으로 설정합니다.\n",
    "# 오토인코더(Autoencoder) 모델을 생성합니다."
   ]
  },
  {
   "cell_type": "code",
   "execution_count": null,
   "id": "aba376f3",
   "metadata": {},
   "outputs": [],
   "source": []
  },
  {
   "cell_type": "code",
   "execution_count": null,
   "id": "2d48b762",
   "metadata": {},
   "outputs": [],
   "source": []
  },
  {
   "cell_type": "markdown",
   "id": "interim-detective",
   "metadata": {},
   "source": [
    "## encoder output 시각화"
   ]
  },
  {
   "cell_type": "markdown",
   "id": "8760ac51",
   "metadata": {},
   "source": [
    "- 학습시킨 encoder 를 이용하여 data를 차원 축소"
   ]
  },
  {
   "cell_type": "code",
   "execution_count": null,
   "id": "05c7b110",
   "metadata": {},
   "outputs": [],
   "source": []
  },
  {
   "cell_type": "markdown",
   "id": "e33face8",
   "metadata": {},
   "source": [
    "- encoder output을 시각화 "
   ]
  },
  {
   "cell_type": "code",
   "execution_count": null,
   "id": "2cf6601a",
   "metadata": {},
   "outputs": [],
   "source": [
    "# 인코딩된 결과를 산점도로 플롯합니다.\n",
    "# encodings 배열의 첫 번째 열을 x축, 두 번째 열을 y축으로 설정합니다.\n",
    "# \"b.\"는 파란색 점을 의미합니다.\n",
    "# x축 레이블을 설정합니다. \"$z_1$\"는 z_1을 의미하는 LaTeX 형식의 문자열입니다.\n",
    "# y축 레이블을 설정합니다. \"$z_2$\"는 z_2을 의미하는 LaTeX 형식의 문자열입니다.\n",
    "# rotation=0은 y축 레이블을 수평으로 표시합니다."
   ]
  },
  {
   "cell_type": "markdown",
   "id": "exterior-connectivity",
   "metadata": {},
   "source": [
    "## Decoder 를 이용한 data 복원"
   ]
  },
  {
   "cell_type": "markdown",
   "id": "e7eaefa8",
   "metadata": {},
   "source": [
    "- 학습된 decoder를 이용하여 data 복원"
   ]
  },
  {
   "cell_type": "code",
   "execution_count": null,
   "id": "2363e374",
   "metadata": {},
   "outputs": [],
   "source": []
  },
  {
   "cell_type": "markdown",
   "id": "7ee03beb",
   "metadata": {},
   "source": [
    "- 복원된 data 시각화"
   ]
  },
  {
   "cell_type": "code",
   "execution_count": null,
   "id": "30f94323",
   "metadata": {},
   "outputs": [],
   "source": [
    "# 3D 플롯을 생성합니다.\n",
    "# 3D 산점도를 그립니다.\n",
    "# decodings 배열의 첫 번째 열을 x축, 두 번째 열을 y축, 세 번째 열을 z축으로 설정합니다.\n",
    "# 데이터 포인트의 색상은 decodings 배열의 첫 번째 열의 값에 따라 지정하고, 'Reds' 컬러맵을 사용합니다."
   ]
  },
  {
   "cell_type": "code",
   "execution_count": null,
   "id": "db5308cd",
   "metadata": {},
   "outputs": [],
   "source": []
  }
 ],
 "metadata": {
  "kernelspec": {
   "display_name": "Python 3 (ipykernel)",
   "language": "python",
   "name": "python3"
  },
  "language_info": {
   "codemirror_mode": {
    "name": "ipython",
    "version": 3
   },
   "file_extension": ".py",
   "mimetype": "text/x-python",
   "name": "python",
   "nbconvert_exporter": "python",
   "pygments_lexer": "ipython3",
   "version": "3.9.7"
  }
 },
 "nbformat": 4,
 "nbformat_minor": 5
}
