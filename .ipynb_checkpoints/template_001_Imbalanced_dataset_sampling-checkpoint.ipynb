{
 "cells": [
  {
   "cell_type": "markdown",
   "id": "69dfaa56",
   "metadata": {},
   "source": [
    "# 불균형 분류에 대한 Random Oversampling 및 Undersampling \n",
    "\n",
    "## Random Undersampling \n",
    "\n",
    "- Random Undersampling은 다수 클래스에서 example 을 삭제하므로 모델에 중요한 정보를 잃을 수 있습니다.\n",
    "\n",
    "\n",
    "## Random Oversampling\n",
    "\n",
    "- Random Oversampling은 훈련 데이터 세트의 소수 클래스의 예제를 복제하므로 일부 모델에 대해 과적합을 초래할 수 있습니다.  \n",
    "\n",
    "- Training set 에서 복원 추출    "
   ]
  },
  {
   "cell_type": "markdown",
   "id": "28cd51ec",
   "metadata": {},
   "source": [
    "## Imbalanced-Learn Library"
   ]
  },
  {
   "cell_type": "code",
   "execution_count": null,
   "id": "c6ecd072",
   "metadata": {},
   "outputs": [],
   "source": [
    "# scikit-lean version 1.4.0 이상에서는 imblean library import 문제 발생하므로 version downgrade\n",
    "# !pip uninstall scikit-learn --yes\n",
    "# !pip uninstall imblearn --yes\n",
    "# !pip install scikit-learn==1.2.2\n",
    "# !pip install imblearn"
   ]
  },
  {
   "cell_type": "code",
   "execution_count": null,
   "id": "9ce1e03d",
   "metadata": {},
   "outputs": [],
   "source": []
  },
  {
   "cell_type": "code",
   "execution_count": null,
   "id": "537bc7fd",
   "metadata": {},
   "outputs": [],
   "source": []
  },
  {
   "cell_type": "markdown",
   "id": "839955b1",
   "metadata": {},
   "source": [
    "make_classification : 랜덤 n-class 분류 문제 생성  \n",
    "\n",
    "- weights :  각 클래스에 할당된 샘플의 비율. None - 균형 class\n",
    "- flip_y :  클래스가 무작위로 할당된 샘플의 비율. 값이 클수록 레이블에 노이즈가 발생하고 분류 작업이 더 어려워진다."
   ]
  },
  {
   "cell_type": "markdown",
   "id": "f3ae4c9d",
   "metadata": {},
   "source": [
    "### 임의의 n-class 분류 문제를 생성\n",
    "- normal(0) : abnormal(1) = 99:1 의 비율로 data 생성"
   ]
  },
  {
   "cell_type": "code",
   "execution_count": null,
   "id": "5a4d128e",
   "metadata": {},
   "outputs": [],
   "source": [
    "# 분류 문제를 위한 합성 데이터 세트 생성\n",
    "# n_samples=10000: 샘플의 총 수 10,000개\n",
    "# n_features=10: 특성(독립 변수)의 수 10개\n",
    "# n_classes=2: 클래스(종속 변수)의 수 2개, 이진 분류 문제를 의미\n",
    "# weights=(0.99,): 첫 번째 클래스의 샘플이 전체의 99%를 차지하도록 설정\n",
    "# flip_y=0.0: 샘플의 레이블을 무작위로 뒤집을 확률, 여기서는 0%로 설정"
   ]
  },
  {
   "cell_type": "code",
   "execution_count": null,
   "id": "b3bc0ac3",
   "metadata": {},
   "outputs": [],
   "source": []
  },
  {
   "cell_type": "markdown",
   "id": "7f3febd8",
   "metadata": {},
   "source": [
    "### Over Sampling\n",
    "\n",
    "sampling_strategy  : 리샘플링 후 다수 클래스 샘플 수에 대한 소수 클래스 샘플 수의 원하는 비율  \n",
    "\n",
    "- minority class 를 oversampling 하여 normal(0) : abnormal(1) = 2:1 이 되도록 resample"
   ]
  },
  {
   "cell_type": "code",
   "execution_count": null,
   "id": "31325903",
   "metadata": {},
   "outputs": [],
   "source": [
    "# 오버샘플링 전략을 설정합니다. 여기서는 적은 클래스의 샘플 수를 전체의 50%로 맞추는 전략을 사용합니다.\n",
    "# X와 y 데이터를 오버샘플링하여 새로운 X_over와 y_over 데이터를 생성합니다.\n",
    "# 오버샘플링된 y 데이터의 클래스 분포 출력"
   ]
  },
  {
   "cell_type": "code",
   "execution_count": null,
   "id": "accaeb83",
   "metadata": {},
   "outputs": [],
   "source": [
    "# y_over 데이터의 클래스 분포를 시각화합니다.\n",
    "# sns.countplot() 함수는 각 클래스의 샘플 수를 세어 막대 그래프로 보여줍니다."
   ]
  },
  {
   "cell_type": "markdown",
   "id": "dd085b69",
   "metadata": {},
   "source": [
    "### Under Sampling\n",
    "\n",
    "sampling_strategy : `majority`: 다수 클래스만 리샘플링 \n",
    "\n",
    "- majority class 를 undersample 하여 normal(0) : abnormal(1) = 1:1 이 되도록 resample"
   ]
  },
  {
   "cell_type": "code",
   "execution_count": null,
   "id": "67143fae",
   "metadata": {},
   "outputs": [],
   "source": [
    "# 'majority': 다수 클래스의 샘플 수를 소수 클래스의 샘플 수와 동일하게 줄입니다. "
   ]
  },
  {
   "cell_type": "code",
   "execution_count": null,
   "id": "33e0aa94",
   "metadata": {},
   "outputs": [],
   "source": [
    "# y_under 데이터의 클래스 분포를 시각화합니다.\n",
    "# sns.countplot() 함수는 각 클래스의 샘플 수를 세어 막대 그래프로 보여줍니다."
   ]
  },
  {
   "cell_type": "markdown",
   "id": "8015dc62",
   "metadata": {},
   "source": [
    "## Random Oversampling 과 Undersampling을 동시 적용\n",
    "- 소수 class 를 oversampling 하여 normal(0) : abnormal(1) = 10:1 이 되도록 하고,  \n",
    "- 다수 class 를 undersampling 하여 normal(0) : abnormal(1) = 2:1 이 되도록 한다."
   ]
  },
  {
   "cell_type": "code",
   "execution_count": null,
   "id": "80d102c4",
   "metadata": {},
   "outputs": [],
   "source": [
    "# sampling_strategy=0.1은 소수 클래스를 다수 클래스의 10%까지 증가시킴\n",
    "# sampling_strategy=0.5는 다수 클래스를 소수 클래스의 2배까지 감소시킴"
   ]
  },
  {
   "cell_type": "code",
   "execution_count": null,
   "id": "534cdb29",
   "metadata": {},
   "outputs": [],
   "source": []
  },
  {
   "cell_type": "markdown",
   "id": "4680c456",
   "metadata": {},
   "source": [
    "### 임의의 n-class 분류 문제를 생성\n",
    "- normal(0) : abnormal(1) = 99:1 의 비율로 data 생성"
   ]
  },
  {
   "cell_type": "code",
   "execution_count": null,
   "id": "81d3d168",
   "metadata": {},
   "outputs": [],
   "source": [
    "# make_classification 함수를 사용하여 분류용 샘플 데이터를 만듭니다.\n",
    "# n_samples: 총 샘플 수 (여기서는 10000개)\n",
    "# n_features: 각 샘플의 특성 수 (여기서는 10개)\n",
    "# n_classes: 클래스의 수 (여기서는 2개)\n",
    "# weights: 클래스의 비율 (여기서는 첫 번째 클래스가 99%, 두 번째 클래스가 1%)\n",
    "# flip_y: 샘플의 클래스 레이블을 무작위로 변경할 비율 (여기서는 0%)\n",
    "# random_state: 난수 시드 (재현성을 위해 0으로 설정)\n",
    "# y 데이터의 클래스 분포를 출력합니다."
   ]
  },
  {
   "cell_type": "markdown",
   "id": "c681a6b6",
   "metadata": {},
   "source": [
    "## SMOTE (Synthetic Minority Over-Sampling Technique) 적용\n",
    "\n",
    "http://www.incodom.kr/SMOTE\n",
    "\n",
    "- SMOTE는 불균형 데이터셋에서 소수 클래스의 샘플을 늘려 데이터의 균형을 맞추기 위한 오버샘플링 기법입니다.  \n",
    "- 소수 클래스의 각 샘플에 대해 k-최근접 이웃(k-nearest neighbors)을 찾습니다. 기본적으로 k는 5로 설정됩니다.  \n",
    "- 각 소수 클래스 샘플에 대해 선택된 k-최근접 이웃 중 하나를 무작위로 선택합니다.  \n",
    "- 선택된 이웃과 원래 샘플 사이의 선형 간격을 따라 새로운 샘플을 생성합니다. 새로운 샘플은 원래 샘플과 이웃 샘플 사이의 선형 보간(interpolation)으로 생성됩니다.  "
   ]
  },
  {
   "cell_type": "code",
   "execution_count": null,
   "id": "8c2f2981",
   "metadata": {},
   "outputs": [],
   "source": [
    "# SMOTE 객체를 생성합니다. sampling_strategy를 생략하면 소수 클래스가 다수 클래스와 같아질 때까지 오버샘플링합니다.\n",
    "# SMOTE를 사용하여 데이터셋을 재샘플링합니다."
   ]
  },
  {
   "cell_type": "code",
   "execution_count": null,
   "id": "4f5b0d3d",
   "metadata": {},
   "outputs": [],
   "source": []
  },
  {
   "cell_type": "markdown",
   "id": "8b5f379d",
   "metadata": {},
   "source": [
    "- SMOTE 적용 전, 후 분포 시각화  \n",
    "\n",
    "- 시각화를 위해 2 차원으로 축소"
   ]
  },
  {
   "cell_type": "markdown",
   "id": "c9fe5046",
   "metadata": {},
   "source": [
    "SMOTE 적용전 original data 시각화"
   ]
  },
  {
   "cell_type": "code",
   "execution_count": null,
   "id": "6cea7f31",
   "metadata": {},
   "outputs": [],
   "source": []
  },
  {
   "cell_type": "code",
   "execution_count": null,
   "id": "b3876a01",
   "metadata": {},
   "outputs": [],
   "source": []
  },
  {
   "cell_type": "markdown",
   "id": "2cec0257",
   "metadata": {},
   "source": [
    "SMOTE 적용 후 data 시각화"
   ]
  },
  {
   "cell_type": "code",
   "execution_count": null,
   "id": "95b77f1a",
   "metadata": {},
   "outputs": [],
   "source": []
  },
  {
   "cell_type": "code",
   "execution_count": null,
   "id": "e134a3eb",
   "metadata": {},
   "outputs": [],
   "source": []
  },
  {
   "cell_type": "code",
   "execution_count": null,
   "id": "9259a096",
   "metadata": {},
   "outputs": [],
   "source": []
  }
 ],
 "metadata": {
  "kernelspec": {
   "display_name": "Python 3 (ipykernel)",
   "language": "python",
   "name": "python3"
  },
  "language_info": {
   "codemirror_mode": {
    "name": "ipython",
    "version": 3
   },
   "file_extension": ".py",
   "mimetype": "text/x-python",
   "name": "python",
   "nbconvert_exporter": "python",
   "pygments_lexer": "ipython3",
   "version": "3.9.16"
  }
 },
 "nbformat": 4,
 "nbformat_minor": 5
}
